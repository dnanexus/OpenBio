{
  "cells": [
    {
      "cell_type": "markdown",
      "metadata": {},
      "source": [
        "# Merging Assay Datasets\n",
        "***\n",
        "***As-Is Software Disclaimer***\n",
        "\n",
        "*This content in this repository is delivered “As-Is”. Notwithstanding anything to the contrary, DNAnexus will have no warranty, support, liability or other obligations with respect to Materials provided hereunder.*\n",
        "\n",
        "*[MIT License](https://github.com/dnanexus/OpenBio/blob/master/LICENSE.md) applies to this notebook.*\n",
        "***\n",
        "\n",
        "**Launch spec:**\n",
        "- App name: JupyterLab with Python, R, Stata, ML, Image Processing\n",
        "- Kernel: Python 3\n",
        "- Instance type: mem1_ssd1_v2_x4\n",
        "- Spark cluster configuration: single node\n",
        "- runtime: ~ 5 min\n",
        "\n",
        "**Package dependencies:**\n",
        "- pprint [License](https://docs.python.org/3/license.html?#psf-license)\n",
        "\n",
        "**Data description:** The record ID of a Dataset that has an instance of a GeneticVariantAssay and the record ID of a Dataset that has an instance of a MolecularExpressionAssay. All data in this notebook is synthetic.\n",
        "\n",
        "\n",
        "**This notebook shows how to:** Merge Assays from multiple Datasets.\n",
        "***"
      ]
    },
    {
      "cell_type": "markdown",
      "metadata": {},
      "source": [
        "## Load packages using `import`"
      ]
    },
    {
      "cell_type": "code",
      "execution_count": 1,
      "metadata": {
        "trusted": true
      },
      "outputs": [],
      "source": [
        "import dxdata\n",
        "import pprint"
      ]
    },
    {
      "cell_type": "markdown",
      "metadata": {},
      "source": [
        "## View properties of Datasets"
      ]
    },
    {
      "cell_type": "markdown",
      "metadata": {},
      "source": [
        "Using dxdata, view the properties of each Dataset. `genopheno_ds` is a Dataset that has a GeneticVariantAssay. `molexp_ds` is a Dataset that has a MolecularExpressionAssay. "
      ]
    },
    {
      "cell_type": "code",
      "execution_count": null,
      "metadata": {
        "trusted": true
      },
      "outputs": [],
      "source": [
        "genopheno_ds = dxdata.load_dataset(id=\"record-G3814k006Fjgk5J74Kx3X1QG\")\n",
        "pprint.pprint(genopheno_ds.__dict__)"
      ]
    },
    {
      "cell_type": "code",
      "execution_count": null,
      "metadata": {
        "trusted": true
      },
      "outputs": [],
      "source": [
        "molexp_ds = dxdata.load_dataset(id=\"record-G7Z4Zf80GjvF7QP7Fk6Bz3Fp\")\n",
        "pprint.pprint(molexp_ds.__dict__)"
      ]
    },
    {
      "cell_type": "markdown",
      "metadata": {},
      "source": [
        "## Create a linking file"
      ]
    },
    {
      "cell_type": "markdown",
      "metadata": {},
      "source": [
        "If a linking table does not already exist, a linking file can be used to create a linking table in a database while running the Assay Dataset Merger App. Here's an example of what a linking file could look like:"
      ]
    },
    {
      "cell_type": "code",
      "execution_count": null,
      "metadata": {
        "trusted": true
      },
      "outputs": [],
      "source": [
        "%%bash\n",
        "dx cat file-G7gXx700Gjv1J3kx15P8Q47Q"
      ]
    },
    {
      "cell_type": "markdown",
      "metadata": {},
      "source": [
        "## Run Assay Dataset Merger"
      ]
    },
    {
      "cell_type": "code",
      "execution_count": null,
      "metadata": {},
      "outputs": [],
      "source": [
        "%%bash\n",
        "dx run app-assay_dataset_merger \\\n",
        "-isource_dataset=record-G7Z4Zf80GjvF7QP7Fk6Bz3Fp \\\n",
        "-itarget_dataset=record-G3814k006Fjgk5J74Kx3X1QG \\\n",
        "-ilinking_file=file-G7gXx700Gjv1J3kx15P8Q47Q \\\n",
        "-ioutput_dataset_name=\"merged.dataset\" \\\n",
        "-iassay_sample_id_field_name=\"sample_id\" \\\n",
        "-iassay_sample_id_entity_name=\"expression\" \\\n",
        "-ipheno_entity_name=\"patients\" \\\n",
        "-ipheno_sample_id_field_name=\"patient_id\" \\\n",
        "-iassay_entries_per_pheno=\"one\" \\\n",
        "-ilinking_database_name=\"linking_table\" \\\n",
        "-idashboard_template=\"Global Defaults\" \\\n",
        "--detach \\\n",
        "-y"
      ]
    },
    {
      "cell_type": "markdown",
      "metadata": {},
      "source": [
        "## View properties of newly merged dataset"
      ]
    },
    {
      "cell_type": "markdown",
      "metadata": {},
      "source": [
        "The properties of `merged_ds` shows that it has both a GeneticVariantAssay and a MolecularExpressionAssay!"
      ]
    },
    {
      "cell_type": "code",
      "execution_count": null,
      "metadata": {
        "trusted": true
      },
      "outputs": [],
      "source": [
        "%%bash\n",
        "# Look up the record ID of the new dataset\n",
        "dx describe job-GJQ6PV00Gjv02fq0FxGzKG6f --json | jq .output"
      ]
    },
    {
      "cell_type": "code",
      "execution_count": null,
      "metadata": {
        "trusted": true
      },
      "outputs": [],
      "source": [
        "merged_ds = dxdata.load_dataset(id=\"record-GJQ6X2Q0Y96k865PFv00kJZ0\")\n",
        "pprint.pprint(merged_ds.__dict__)"
      ]
    }
  ],
  "metadata": {
    "kernelspec": {
      "display_name": "Python 3",
      "language": "python",
      "name": "python3"
    },
    "language_info": {
      "codemirror_mode": {
        "name": "ipython",
        "version": 3
      },
      "file_extension": ".py",
      "mimetype": "text/x-python",
      "name": "python",
      "nbconvert_exporter": "python",
      "pygments_lexer": "ipython3",
      "version": "3.6.5"
    }
  },
  "nbformat": 4,
  "nbformat_minor": 5
}
