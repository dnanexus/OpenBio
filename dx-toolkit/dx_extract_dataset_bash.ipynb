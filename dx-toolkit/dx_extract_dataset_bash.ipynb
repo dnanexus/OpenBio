{
    "cells": [
        {
            "cell_type": "markdown",
            "metadata": {},
            "source": [
                "# “dx extract_dataset” in Bash\n",
                "<hr/>\n",
                "***As-Is Software Disclaimer***\n",
                "\n",
                "This content in this repository is delivered “As-Is”. Notwithstanding anything to the contrary, DNAnexus will have no warranty, support, liability or other obligations with respect to Materials provided hereunder.\n",
                "\n",
                "<hr/>\n",
                "\n",
                "This notebook demonstrates usage of the dx command `extract_dataset` for:\n",
                "* Retrieval of Apollo-stored data, as referenced within entities and fields of a Dataset or Cohort object on the platform\n",
                "* Retrieval of the underlying data dictionary files used to generate a Dataset object on the platform\n",
                "\n",
                "<a href=\"https://github.com/dnanexus/OpenBio/blob/master/LICENSE.md\">MIT License</a> applies to this notebook."
            ]
        },
        {
            "cell_type": "markdown",
            "metadata": {},
            "source": [
                "## Preparing your environment\n",
                "### Launch spec:\n",
                "\n",
                "* App name: JupyterLab with Python, R, Stata, ML ()\n",
                "* Kernel: Bash\n",
                "* Instance type: mem1_ssd1_v2_x2\n",
                "* Cost: < $0.2\n",
                "* Runtime: =~ 10 min\n",
                "* Data description: Input for this notebook is a v3.0 Dataset or Cohort object ID"
            ]
        },
        {
            "attachments": {},
            "cell_type": "markdown",
            "id": "83a28ced",
            "metadata": {},
            "source": [
                "### dxpy version\n",
                "extract_dataset requires dxpy version >= 0.329.0. If running the command from your local environment (i.e. off of the DNAnexus platform), it may be required to also install pandas. For example, pip3 install -U dxpy[pandas]\n",
                "Listing options are available in dxpy version >= 0.341.0 "
            ]
        },
        {
            "cell_type": "code",
            "execution_count": null,
            "id": "bb2510d0",
            "metadata": {
                "trusted": true
            },
            "outputs": [],
            "source": [
                "pip3 install -U dxpy \n",
                "dx --version"
            ]
        },
        {
            "cell_type": "markdown",
            "metadata": {},
            "source": [
                "### 1. Assign environment variables"
            ]
        },
        {
            "cell_type": "code",
            "execution_count": null,
            "metadata": {
                "trusted": true
            },
            "outputs": [],
            "source": [
                "# The referenced Dataset is private and provided only to demonstrate an example input. The user will need to supply a permissible and valid record-id\n",
                "# Assign joint dataset project-id:record-id\n",
                "dataset=\"project-G5BzYk80kP5bvbXy5J7PQZ36:record-GJ3Y7jQ0VKyy592yPxB4yG7Y\""
            ]
        },
        {
            "attachments": {},
            "cell_type": "markdown",
            "metadata": {},
            "source": [
                "### 2. Inspecting the dataset structure"
            ]
        },
        {
            "attachments": {},
            "cell_type": "markdown",
            "id": "6a1f2cb9",
            "metadata": {},
            "source": [
                "#### A) Extract the three dictionary files\n",
                "`<record_name>.data_dictionary.csv`, `<record_name>.entity_dictionary.csv`, and `<record_name>.codings.csv`"
            ]
        },
        {
            "cell_type": "code",
            "execution_count": null,
            "metadata": {
                "trusted": true
            },
            "outputs": [],
            "source": [
                "dx extract_dataset ${dataset} -ddd --delimiter \",\""
            ]
        },
        {
            "attachments": {},
            "cell_type": "markdown",
            "metadata": {},
            "source": [
                "#### Preview data in the three dictionary (*.csv) files"
            ]
        },
        {
            "cell_type": "code",
            "execution_count": null,
            "metadata": {
                "trusted": true
            },
            "outputs": [],
            "source": [
                "head -5 *.csv"
            ]
        },
        {
            "attachments": {},
            "cell_type": "markdown",
            "id": "176f0dd8",
            "metadata": {},
            "source": [
                "#### B) List names and titles for entities and fields \n",
                "Names and titles are printed as tab separated columns."
            ]
        },
        {
            "cell_type": "code",
            "execution_count": null,
            "id": "fcd4fd2d",
            "metadata": {},
            "outputs": [],
            "source": [
                "dx extract_dataset ${dataset} --list-entities"
            ]
        },
        {
            "attachments": {},
            "cell_type": "markdown",
            "id": "5a54604c",
            "metadata": {},
            "source": [
                "Listing fields in the main entity."
            ]
        },
        {
            "cell_type": "code",
            "execution_count": null,
            "id": "69064683",
            "metadata": {},
            "outputs": [],
            "source": [
                "dx extract_dataset ${dataset} --list-fields"
            ]
        },
        {
            "attachments": {},
            "cell_type": "markdown",
            "id": "66211987",
            "metadata": {},
            "source": [
                "Listing fields in the specified entities. "
            ]
        },
        {
            "cell_type": "code",
            "execution_count": null,
            "id": "8e31d232",
            "metadata": {},
            "outputs": [],
            "source": [
                "dx extract_dataset ${dataset} --list-fields --entities=doctor,baseline"
            ]
        },
        {
            "attachments": {},
            "cell_type": "markdown",
            "metadata": {},
            "source": [
                "### 3. Parse metadata to get entity/field names in format for extraction"
            ]
        },
        {
            "attachments": {},
            "cell_type": "markdown",
            "id": "ebe21011",
            "metadata": {},
            "source": [
                "#### A) Parsing dictionary files"
            ]
        },
        {
            "cell_type": "code",
            "execution_count": null,
            "metadata": {
                "trusted": true
            },
            "outputs": [],
            "source": [
                "entity_field_input=`cut -d \",\" -f 1,2 *.data_dictionary.csv | tail -n +2 | tr ',' '.'| tr '\\n' ',' | sed 's/.$//'`\n",
                "echo ${entity_field_input}"
            ]
        },
        {
            "attachments": {},
            "cell_type": "markdown",
            "id": "6fcb75fa",
            "metadata": {},
            "source": [
                "#### B) Parsing output of `dx extract_dataset ${dataset} --list-fields` \n",
                "This can be further processed to filter the fileds of interest e.g."
            ]
        },
        {
            "cell_type": "code",
            "execution_count": null,
            "id": "cea9f28e",
            "metadata": {},
            "outputs": [],
            "source": [
                "entity_field_input=`dx extract_dataset ${dataset} --list-fields |cut -f1 |grep risk |tr '\\n' ',' |sed 's/.$//'`\n",
                "echo ${entity_field_input}"
            ]
        },
        {
            "cell_type": "markdown",
            "metadata": {},
            "source": [
                "### 4. Use extracted entity and field names as input to the called function, “dx extract_dataset” and extract data"
            ]
        },
        {
            "cell_type": "code",
            "execution_count": null,
            "metadata": {
                "trusted": true
            },
            "outputs": [],
            "source": [
                "dx extract_dataset \"${dataset}\" --fields \"${entity_field_input}\" -o extracted_data.csv"
            ]
        },
        {
            "cell_type": "markdown",
            "metadata": {},
            "source": [
                "#### Print data in the retrieved data file"
            ]
        },
        {
            "cell_type": "code",
            "execution_count": null,
            "metadata": {
                "trusted": true
            },
            "outputs": [],
            "source": [
                "head -3 extracted_data.csv"
            ]
        },
        {
            "cell_type": "markdown",
            "metadata": {},
            "source": [
                "### 5. Upload extracted dictionaries and data back to the project"
            ]
        },
        {
            "cell_type": "code",
            "execution_count": null,
            "metadata": {},
            "outputs": [],
            "source": [
                "dx upload *.csv"
            ]
        }
    ],
    "metadata": {
        "kernelspec": {
            "display_name": "Bash",
            "language": "bash",
            "name": "bash"
        },
        "language_info": {
            "codemirror_mode": "shell",
            "file_extension": ".sh",
            "mimetype": "text/x-sh",
            "name": "bash"
        }
    },
    "nbformat": 4,
    "nbformat_minor": 5
}