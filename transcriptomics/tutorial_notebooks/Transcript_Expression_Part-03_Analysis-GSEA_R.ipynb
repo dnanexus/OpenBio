{
  "metadata": {
    "kernelspec": {
      "display_name": "R",
      "language": "R",
      "name": "ir"
    },
    "language_info": {
      "name": "R",
      "codemirror_mode": "r",
      "pygments_lexer": "r",
      "mimetype": "text/x-r-source",
      "file_extension": ".r",
      "version": "4.1.2"
    }
  },
  "nbformat_minor": 5,
  "nbformat": 4,
  "cells": [
    {
      "cell_type": "markdown",
      "source": "# Transcriptomics Tutorials\nThis series of notebooks is created to showcase transcript analysis on files. The series consists of the following notebooks:\n- Notebook 1: Expression Data Transformation\n- Notebook 2: Differential Expression Analysis\n- Notebook 3: Gene Set Enrichment Analysis\n- Notebook 4: Gene Co-Expression Analysis\n- Notebook 5: Gene Regulatory Network\n\n# Notebook 3: Gene Set Enrichment Analysis\n\nThis notebook is delivered \"As-Is\". Notwithstanding anything to the contrary, DNAnexus will have no warranty, support, liability or other obligations with respect to Materials provided hereunder.\n\n<a href=\"https://github.com/dnanexus/OpenBio/blob/master/LICENSE.md\">MIT License</a> applies to this notebook.",
      "metadata": {}
    },
    {
      "cell_type": "markdown",
      "source": "In this notebook, we will use `WebGestalt` (WEB-based GEne SeT AnaLysis Toolkit) and its R package- <a href=\"https://cran.r-project.org/web/packages/WebGestaltR/index.html\">WebGestaltR</a> to perform Gene Set Enrichment Analysis (GSEA).",
      "metadata": {}
    },
    {
      "cell_type": "markdown",
      "source": "## 1. Preparing your environment\n\n<b>Launch spec:</b> \n- App name: JupyterLab with Python, R, Stata, ML\n- Kernel: R\n- Instance type: mem1_ssd1_v2_x16\n- cost: < $0.25\n- runtime: =~ 15 min\n\n\n<b>Data description:</b> File input for this notebook is a table of differential expression analysis (DESeq2) results obtained from a prior step. This file contains the DESeq2 results columns for 26,260 genes.\n\n\n<b>Package dependency:</b>\n\n| Package | License | \n| --- | --- |\n| tidyverse | <a href=\"https://github.com/dnanexus/OpenBio/blob/master/LICENSE.md\">MIT License</a> + <a href=\"https://cran.r-project.org/web/packages/tidyverse/LICENSE\">file LICENSE</a> |\n| WebGestaltR | <a href=\"https://cran.r-project.org/web/licenses/LGPL-2\">LGPL-2 </a>, <a href=\"https://cran.r-project.org/web/licenses/LGPL-2.1\">LGPL-2.1 </a>, <a href=\"https://cran.r-project.org/web/licenses/LGPL-3\">LGPL-3 </a> |\n| org.Hs.eg.db | <a href=\"https://opensource.org/licenses/Artistic-2.0\">artistic-2.0 </a> |",
      "metadata": {}
    },
    {
      "cell_type": "markdown",
      "source": "**Install Packages**\n\nUncomment the install commands if you are comfortable with the library license and want to install and run the parts notebook that depend on the library.\n\n_Note: Package installation takes ~10 minutes_",
      "metadata": {}
    },
    {
      "cell_type": "code",
      "source": "# Update and install dependencies for WebGestaltR\nsystem(\"apt-get update\")\nsystem(\"yes | apt-get install libfontconfig1-dev\")",
      "metadata": {
        "trusted": true
      },
      "execution_count": null,
      "outputs": []
    },
    {
      "cell_type": "code",
      "source": "# Install the library WebGestaltR from CRAN (Package for GSEA)\n# install.packages(\"WebGestaltR\")         \n# Intall the library tidyverse from CRAN (Required for data handling)\n# install.packages(\"tidyverse\")           \n# Install the library org.Hs.eg.db from Bioconductor (Human-specific annotation package)\n# BiocManager::install(\"org.Hs.eg.db\")    ",
      "metadata": {
        "trusted": true
      },
      "execution_count": null,
      "outputs": []
    },
    {
      "cell_type": "markdown",
      "source": "**Declare input and output file names**\n\nIn notebook 2: Differential Expression Analysis, we used DESeq2 to perform Differential Expression Analysis and saved the results on the DNAnexus platform. Select the files to be downloaded and the filename of the output files of this notebook",
      "metadata": {}
    },
    {
      "cell_type": "code",
      "source": "# Input file\nde_file <- \"CPTAC-3_deseq2_all_genes.csv\"\n\n# Output file\nenrichment_file <- \"CPTAC-3_top_GO_terms_differential_expression.csv\"",
      "metadata": {
        "trusted": true
      },
      "execution_count": null,
      "outputs": []
    },
    {
      "cell_type": "markdown",
      "source": "**Download Data**\n\nWe download the input files using CLI dx-toolbox command, `dx download <file_name>`.",
      "metadata": {}
    },
    {
      "cell_type": "code",
      "source": "system(paste(\"dx download\", de_file))",
      "metadata": {
        "trusted": true
      },
      "execution_count": null,
      "outputs": []
    },
    {
      "cell_type": "markdown",
      "source": "_Note: At this point, we suggest creating a snapshot of the environment for resuse --> DNAnexus/Create Snapshot. Once a snapshot is created, the object may be used when launching a new JupyterLab instance and will contain all installed packages and any downloaded data._",
      "metadata": {}
    },
    {
      "cell_type": "markdown",
      "source": "## 2. Load Libraries",
      "metadata": {}
    },
    {
      "cell_type": "code",
      "source": "library(\"WebGestaltR\")\nlibrary(\"org.Hs.eg.db\")\nlibrary(\"tidyverse\")",
      "metadata": {
        "trusted": true
      },
      "execution_count": null,
      "outputs": []
    },
    {
      "cell_type": "markdown",
      "source": "## 3. Load, transform, and filter data",
      "metadata": {}
    },
    {
      "cell_type": "code",
      "source": "# Read in differential gene expression analysis results\ngene_set <- read_csv(\n    file = de_file,\n    show_col_types = FALSE,\n    name_repair = \"minimal\")\ncolnames(gene_set)\ndim(gene_set)\n\n# Filter by log2 fold change and adjusted P-value\n# Sort by log2FoldChange and assign rank\nsig_gene_set <- gene_set %>%\n    rename(ensembl_id = 1) %>%\n    filter(log2FoldChange > 2) %>%\n    filter(padj < 1.0e-10) %>%\n    arrange(pvalue) %>%\n    separate(ensembl_id, c(\"ensembl_gene_id\", NA)) %>%\n    mutate(rank = row_number())\n    \nhead(sig_gene_set, n = 2)\ntail(sig_gene_set, n = 2)\ndim(sig_gene_set)",
      "metadata": {
        "trusted": true
      },
      "execution_count": 14,
      "outputs": [
        {
          "output_type": "display_data",
          "data": {
            "text/html": "<style>\n.list-inline {list-style: none; margin:0; padding: 0}\n.list-inline>li {display: inline-block}\n.list-inline>li:not(:last-child)::after {content: \"\\00b7\"; padding: 0 .5ex}\n</style>\n<ol class=list-inline><li>'gene'</li><li>'baseMean'</li><li>'log2FoldChange'</li><li>'lfcSE'</li><li>'stat'</li><li>'pvalue'</li><li>'padj'</li></ol>\n",
            "text/markdown": "1. 'gene'\n2. 'baseMean'\n3. 'log2FoldChange'\n4. 'lfcSE'\n5. 'stat'\n6. 'pvalue'\n7. 'padj'\n\n\n",
            "text/latex": "\\begin{enumerate*}\n\\item 'gene'\n\\item 'baseMean'\n\\item 'log2FoldChange'\n\\item 'lfcSE'\n\\item 'stat'\n\\item 'pvalue'\n\\item 'padj'\n\\end{enumerate*}\n",
            "text/plain": "[1] \"gene\"           \"baseMean\"       \"log2FoldChange\" \"lfcSE\"         \n[5] \"stat\"           \"pvalue\"         \"padj\"          "
          },
          "metadata": {}
        },
        {
          "output_type": "display_data",
          "data": {
            "text/html": "<style>\n.list-inline {list-style: none; margin:0; padding: 0}\n.list-inline>li {display: inline-block}\n.list-inline>li:not(:last-child)::after {content: \"\\00b7\"; padding: 0 .5ex}\n</style>\n<ol class=list-inline><li>26020</li><li>7</li></ol>\n",
            "text/markdown": "1. 26020\n2. 7\n\n\n",
            "text/latex": "\\begin{enumerate*}\n\\item 26020\n\\item 7\n\\end{enumerate*}\n",
            "text/plain": "[1] 26020     7"
          },
          "metadata": {}
        },
        {
          "output_type": "display_data",
          "data": {
            "text/html": "<table class=\"dataframe\">\n<caption>A tibble: 2 × 8</caption>\n<thead>\n\t<tr><th scope=col>ensembl_gene_id</th><th scope=col>baseMean</th><th scope=col>log2FoldChange</th><th scope=col>lfcSE</th><th scope=col>stat</th><th scope=col>pvalue</th><th scope=col>padj</th><th scope=col>rank</th></tr>\n\t<tr><th scope=col>&lt;chr&gt;</th><th scope=col>&lt;dbl&gt;</th><th scope=col>&lt;dbl&gt;</th><th scope=col>&lt;dbl&gt;</th><th scope=col>&lt;dbl&gt;</th><th scope=col>&lt;dbl&gt;</th><th scope=col>&lt;dbl&gt;</th><th scope=col>&lt;int&gt;</th></tr>\n</thead>\n<tbody>\n\t<tr><td>ENSG00000135245</td><td> 4759.353</td><td>5.962794</td><td>0.1381325</td><td>43.16722</td><td>0</td><td>0</td><td>1</td></tr>\n\t<tr><td>ENSG00000185633</td><td>10623.994</td><td>7.803186</td><td>0.1456195</td><td>53.58615</td><td>0</td><td>0</td><td>2</td></tr>\n</tbody>\n</table>\n",
            "text/markdown": "\nA tibble: 2 × 8\n\n| ensembl_gene_id &lt;chr&gt; | baseMean &lt;dbl&gt; | log2FoldChange &lt;dbl&gt; | lfcSE &lt;dbl&gt; | stat &lt;dbl&gt; | pvalue &lt;dbl&gt; | padj &lt;dbl&gt; | rank &lt;int&gt; |\n|---|---|---|---|---|---|---|---|\n| ENSG00000135245 |  4759.353 | 5.962794 | 0.1381325 | 43.16722 | 0 | 0 | 1 |\n| ENSG00000185633 | 10623.994 | 7.803186 | 0.1456195 | 53.58615 | 0 | 0 | 2 |\n\n",
            "text/latex": "A tibble: 2 × 8\n\\begin{tabular}{llllllll}\n ensembl\\_gene\\_id & baseMean & log2FoldChange & lfcSE & stat & pvalue & padj & rank\\\\\n <chr> & <dbl> & <dbl> & <dbl> & <dbl> & <dbl> & <dbl> & <int>\\\\\n\\hline\n\t ENSG00000135245 &  4759.353 & 5.962794 & 0.1381325 & 43.16722 & 0 & 0 & 1\\\\\n\t ENSG00000185633 & 10623.994 & 7.803186 & 0.1456195 & 53.58615 & 0 & 0 & 2\\\\\n\\end{tabular}\n",
            "text/plain": "  ensembl_gene_id baseMean  log2FoldChange lfcSE     stat     pvalue padj rank\n1 ENSG00000135245  4759.353 5.962794       0.1381325 43.16722 0      0    1   \n2 ENSG00000185633 10623.994 7.803186       0.1456195 53.58615 0      0    2   "
          },
          "metadata": {}
        },
        {
          "output_type": "display_data",
          "data": {
            "text/html": "<table class=\"dataframe\">\n<caption>A tibble: 2 × 8</caption>\n<thead>\n\t<tr><th scope=col>ensembl_gene_id</th><th scope=col>baseMean</th><th scope=col>log2FoldChange</th><th scope=col>lfcSE</th><th scope=col>stat</th><th scope=col>pvalue</th><th scope=col>padj</th><th scope=col>rank</th></tr>\n\t<tr><th scope=col>&lt;chr&gt;</th><th scope=col>&lt;dbl&gt;</th><th scope=col>&lt;dbl&gt;</th><th scope=col>&lt;dbl&gt;</th><th scope=col>&lt;dbl&gt;</th><th scope=col>&lt;dbl&gt;</th><th scope=col>&lt;dbl&gt;</th><th scope=col>&lt;int&gt;</th></tr>\n</thead>\n<tbody>\n\t<tr><td>ENSG00000268658</td><td> 51.50565</td><td>2.539657</td><td>0.3767215</td><td>6.741469</td><td>1.567931e-11</td><td>6.480948e-11</td><td>886</td></tr>\n\t<tr><td>ENSG00000152207</td><td>675.44134</td><td>2.349440</td><td>0.3500620</td><td>6.711496</td><td>1.926392e-11</td><td>7.902366e-11</td><td>887</td></tr>\n</tbody>\n</table>\n",
            "text/markdown": "\nA tibble: 2 × 8\n\n| ensembl_gene_id &lt;chr&gt; | baseMean &lt;dbl&gt; | log2FoldChange &lt;dbl&gt; | lfcSE &lt;dbl&gt; | stat &lt;dbl&gt; | pvalue &lt;dbl&gt; | padj &lt;dbl&gt; | rank &lt;int&gt; |\n|---|---|---|---|---|---|---|---|\n| ENSG00000268658 |  51.50565 | 2.539657 | 0.3767215 | 6.741469 | 1.567931e-11 | 6.480948e-11 | 886 |\n| ENSG00000152207 | 675.44134 | 2.349440 | 0.3500620 | 6.711496 | 1.926392e-11 | 7.902366e-11 | 887 |\n\n",
            "text/latex": "A tibble: 2 × 8\n\\begin{tabular}{llllllll}\n ensembl\\_gene\\_id & baseMean & log2FoldChange & lfcSE & stat & pvalue & padj & rank\\\\\n <chr> & <dbl> & <dbl> & <dbl> & <dbl> & <dbl> & <dbl> & <int>\\\\\n\\hline\n\t ENSG00000268658 &  51.50565 & 2.539657 & 0.3767215 & 6.741469 & 1.567931e-11 & 6.480948e-11 & 886\\\\\n\t ENSG00000152207 & 675.44134 & 2.349440 & 0.3500620 & 6.711496 & 1.926392e-11 & 7.902366e-11 & 887\\\\\n\\end{tabular}\n",
            "text/plain": "  ensembl_gene_id baseMean  log2FoldChange lfcSE     stat     pvalue      \n1 ENSG00000268658  51.50565 2.539657       0.3767215 6.741469 1.567931e-11\n2 ENSG00000152207 675.44134 2.349440       0.3500620 6.711496 1.926392e-11\n  padj         rank\n1 6.480948e-11 886 \n2 7.902366e-11 887 "
          },
          "metadata": {}
        },
        {
          "output_type": "display_data",
          "data": {
            "text/html": "<style>\n.list-inline {list-style: none; margin:0; padding: 0}\n.list-inline>li {display: inline-block}\n.list-inline>li:not(:last-child)::after {content: \"\\00b7\"; padding: 0 .5ex}\n</style>\n<ol class=list-inline><li>887</li><li>8</li></ol>\n",
            "text/markdown": "1. 887\n2. 8\n\n\n",
            "text/latex": "\\begin{enumerate*}\n\\item 887\n\\item 8\n\\end{enumerate*}\n",
            "text/plain": "[1] 887   8"
          },
          "metadata": {}
        }
      ]
    },
    {
      "cell_type": "markdown",
      "source": "By filtering the data based on `log2FoldChange` and `padj`, we reduce the number of genes from around 26k to around 1.5k.",
      "metadata": {}
    },
    {
      "cell_type": "code",
      "source": "# Create input for GSEA\ngsea_gene_set <- sig_gene_set %>% select(ensembl_gene_id, rank)\nhead(gsea_gene_set, 3)",
      "metadata": {
        "trusted": true
      },
      "execution_count": null,
      "outputs": []
    },
    {
      "cell_type": "markdown",
      "source": "## 4. WebGestaltR",
      "metadata": {}
    },
    {
      "cell_type": "code",
      "source": "# We can select from a variety of databases for enrichment analysis\nlistGeneSet() %>% filter(str_detect(name, '^geneontology'))",
      "metadata": {
        "trusted": true
      },
      "execution_count": null,
      "outputs": []
    },
    {
      "cell_type": "code",
      "source": "# Run WebGestaltR function while suppressing warnings\nenrichment_result <- suppressWarnings(WebGestaltR(\n    enrichMethod = \"GSEA\",\n    organism = \"hsapiens\",\n    enrichDatabase = \"geneontology_Biological_Process\",\n    interestGene = gsea_gene_set,\n    interestGeneType = \"ensembl_gene_id\",\n    sigMethod = \"fdr\",\n    fdrThr = 0.1,\n    minNum = 3,\n    maxNum = 500,\n    perNum = 1000,\n    isOutput = FALSE,\n    nThreads = 16,\n    isParallel = TRUE\n))",
      "metadata": {
        "trusted": true
      },
      "execution_count": null,
      "outputs": []
    },
    {
      "cell_type": "markdown",
      "source": "## 5. Review results and upload to project",
      "metadata": {}
    },
    {
      "cell_type": "code",
      "source": "# Review results\nenrichment_result <- enrichment_result %>%\n    arrange(FDR) %>%\n    select(geneSet, description, enrichmentScore, normalizedEnrichmentScore,\n           pValue, FDR, size, userId, link)\n\nselect(enrichment_result, -userId) %>% head(5)",
      "metadata": {
        "trusted": true
      },
      "execution_count": null,
      "outputs": []
    },
    {
      "cell_type": "code",
      "source": "# Export the data save it to our project\nwrite_csv(enrichment_result, file = enrichment_file)\nsystem(paste(\"dx upload\", enrichment_file))",
      "metadata": {
        "trusted": true
      },
      "execution_count": null,
      "outputs": []
    }
  ]
}
