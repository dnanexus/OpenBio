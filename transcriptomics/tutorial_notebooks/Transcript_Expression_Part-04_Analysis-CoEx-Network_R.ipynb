{
  "metadata": {
    "kernelspec": {
      "display_name": "R",
      "language": "R",
      "name": "ir"
    },
    "language_info": {
      "codemirror_mode": "r",
      "file_extension": ".r",
      "mimetype": "text/x-r-source",
      "name": "R",
      "pygments_lexer": "r",
      "version": "4.1.2"
    }
  },
  "nbformat_minor": 5,
  "nbformat": 4,
  "cells": [
    {
      "cell_type": "markdown",
      "source": "# Transcriptomics Tutorials\nThis series of notebooks is created to showcase transcript analysis on files. The series consists of the following notebooks:\n- Notebook 1: Expression Data Transformation\n- Notebook 2: Differential Expression Analysis\n- Notebook 3: Gene Set Enrichment Analysis\n- Notebook 4: Gene Co-Expression Analysis\n- Notebook 5: Gene Regulatory Network\n\n# Notebook 4: Gene Co-Expression Analysis\n\nThis notebook is delivered \"As-Is\". Notwithstanding anything to the contrary, DNAnexus will have no warranty, support, liability or other obligations with respect to Materials provided hereunder.\n\n<a href=\"https://github.com/dnanexus/OpenBio/blob/master/LICENSE.md\">MIT License</a> applies to this notebook.",
      "metadata": {}
    },
    {
      "cell_type": "markdown",
      "source": "In this notebook, we will use weighted gene co-expression network analysis (WGCNA) to identify which genes are co-expressed in our samples. WGCNA uses a series of correlations to identify sets of genes that are expressed together in our data.",
      "metadata": {}
    },
    {
      "cell_type": "markdown",
      "source": "## 1. Preparing your environment\n\n<b>Launch spec:</b> \n- App name: JupyterLab with Python, R, Stata, ML\n- Kernel: R\n- Instance type: mem1_ssd1_v2_x16\n- cost: < $0.25\n- runtime: =~ 15 min\n\n\n<b>Data description:</b> File input for this notebook is \n1. A matrix of samples and their respective gene expression counts.This file has the expression counts of 60,483 genes for 60 samples (30 normal, 30 tumor).\n2. A summary file giving the file names and IDs of normal tissue and tumor samples.\n\n<b>Package dependency:</b> \n\n| Package | License | \n| --- | --- |\n| tidyverse | <a href=\"https://github.com/dnanexus/OpenBio/blob/master/LICENSE.md\">MIT License</a> + <a href=\"https://cran.r-project.org/web/packages/tidyverse/LICENSE\">file LICENSE</a> |\n| org.Hs.eg.db | <a href=\"https://opensource.org/licenses/Artistic-2.0\">artistic-2.0 </a> |\n| WGCNA | <a href=\"https://cran.r-project.org/web/licenses/GPL-2\">GPL-2 </a>, <a href=\"https://cran.r-project.org/web/licenses/GPL-3\">GPL-3 </a> |\n| topGO | <a href=\"https://www.gnu.org/licenses/lgpl-3.0.en.html\">LGPL </a> |",
      "metadata": {}
    },
    {
      "cell_type": "markdown",
      "source": "**Install Packages**\n\nUncomment the install commands if you are comfortable with the library license and want to install and run the parts notebook that depend on the library.\n\n_Note: Package installation takes ~10 minutes_",
      "metadata": {}
    },
    {
      "cell_type": "code",
      "source": "# Install the libraries impute, WGCNA, org.Hs.eg.db, topGO from Bioconductor\n# BiocManager::install(\"impute\")        # A dependency of WGCNA that needs to be installed before installing WGCNA\n# BiocManager::install(\"WGCNA\")         # Gene co-expression analysis package\n# BiocManager::install(\"org.Hs.eg.db\")  # This is our human-specific annotation package\n# BiocManager::install(\"topGO\")         # Gene Ontology package\n# Install the library tidyverse from CRAN\n# install.packages(\"tidyverse\")         # Required for data handling",
      "metadata": {
        "trusted": true
      },
      "execution_count": null,
      "outputs": []
    },
    {
      "cell_type": "markdown",
      "source": "**Declare input and output file names**\n\nIn notebook 1: Expression Data Transformation, we generated a counts matrix file from individual gene expression files (CPTAC-3_gene_expression_count_matrix.csv), a pheontype summary table (CPTAC-3_pheno_summary.csv), and saved them in our project on the DNAnexus platform. Select the files to be downloaded and the filename of the output files of this notebook.",
      "metadata": {}
    },
    {
      "cell_type": "code",
      "source": "# Input files\ncounts_file <- \"CPTAC-3_gene_expression_count_matrix.csv\"\npheno_file <- \"CPTAC-3_pheno_summary.csv\"\n\n# Output file\ngo_file <- \"CPTAC-3_top_GO_terms_all_modules.csv\"",
      "metadata": {
        "trusted": true
      },
      "execution_count": null,
      "outputs": []
    },
    {
      "cell_type": "markdown",
      "source": "**Download Data**\n\nWe download these files using CLI dx-toolbox command, `dx download <file_name>`.",
      "metadata": {}
    },
    {
      "cell_type": "code",
      "source": "# Download files from DNAnexus platform\nsystem(paste(\"dx download\", counts_file))\nsystem(paste(\"dx download\", pheno_file))",
      "metadata": {
        "trusted": true
      },
      "execution_count": null,
      "outputs": []
    },
    {
      "cell_type": "markdown",
      "source": "_Note: At this point, we suggest creating a snapshot of the environment for resuse --> DNAnexus/Create Snapshot. Once a snapshot is created, the object may be used when launching a new JupyterLab instance and will contain all installed packages and any downloaded data._",
      "metadata": {}
    },
    {
      "cell_type": "markdown",
      "source": "## 2. Load Libraries",
      "metadata": {}
    },
    {
      "cell_type": "code",
      "source": "library(WGCNA)\nlibrary(org.Hs.eg.db)\nlibrary(topGO)\nlibrary(tidyverse)",
      "metadata": {
        "trusted": true
      },
      "execution_count": null,
      "outputs": []
    },
    {
      "cell_type": "markdown",
      "source": "## 3. Load Data",
      "metadata": {}
    },
    {
      "cell_type": "code",
      "source": "# Read in sample expression counts\ncounts_df <- read_csv(counts_file, show_col_types = FALSE)\ncolnames(counts_df)[1:5]\ndim(counts_df)\n\n# Read in sample phenotypes\npheno_df <- read_csv(pheno_file, show_col_types = FALSE)\ncolnames(pheno_df)\ndim(pheno_df)",
      "metadata": {
        "trusted": true
      },
      "execution_count": 11,
      "outputs": [
        {
          "output_type": "display_data",
          "data": {
            "text/html": "<style>\n.list-inline {list-style: none; margin:0; padding: 0}\n.list-inline>li {display: inline-block}\n.list-inline>li:not(:last-child)::after {content: \"\\00b7\"; padding: 0 .5ex}\n</style>\n<ol class=list-inline><li>'gene'</li><li>'0b5a5d3f-0716-4b0c-97eb-773fda630c4a'</li><li>'0b5bb378-3634-476b-90a5-12fce87d85cc'</li><li>'0df7d07d-67cd-4002-9b2b-771c5eb0d128'</li><li>'1139922f-b5e7-49cf-b111-524a79419c84'</li></ol>\n",
            "text/markdown": "1. 'gene'\n2. '0b5a5d3f-0716-4b0c-97eb-773fda630c4a'\n3. '0b5bb378-3634-476b-90a5-12fce87d85cc'\n4. '0df7d07d-67cd-4002-9b2b-771c5eb0d128'\n5. '1139922f-b5e7-49cf-b111-524a79419c84'\n\n\n",
            "text/latex": "\\begin{enumerate*}\n\\item 'gene'\n\\item '0b5a5d3f-0716-4b0c-97eb-773fda630c4a'\n\\item '0b5bb378-3634-476b-90a5-12fce87d85cc'\n\\item '0df7d07d-67cd-4002-9b2b-771c5eb0d128'\n\\item '1139922f-b5e7-49cf-b111-524a79419c84'\n\\end{enumerate*}\n",
            "text/plain": "[1] \"gene\"                                \n[2] \"0b5a5d3f-0716-4b0c-97eb-773fda630c4a\"\n[3] \"0b5bb378-3634-476b-90a5-12fce87d85cc\"\n[4] \"0df7d07d-67cd-4002-9b2b-771c5eb0d128\"\n[5] \"1139922f-b5e7-49cf-b111-524a79419c84\""
          },
          "metadata": {}
        },
        {
          "output_type": "display_data",
          "data": {
            "text/html": "<style>\n.list-inline {list-style: none; margin:0; padding: 0}\n.list-inline>li {display: inline-block}\n.list-inline>li:not(:last-child)::after {content: \"\\00b7\"; padding: 0 .5ex}\n</style>\n<ol class=list-inline><li>60483</li><li>61</li></ol>\n",
            "text/markdown": "1. 60483\n2. 61\n\n\n",
            "text/latex": "\\begin{enumerate*}\n\\item 60483\n\\item 61\n\\end{enumerate*}\n",
            "text/plain": "[1] 60483    61"
          },
          "metadata": {}
        },
        {
          "output_type": "display_data",
          "data": {
            "text/html": "<style>\n.list-inline {list-style: none; margin:0; padding: 0}\n.list-inline>li {display: inline-block}\n.list-inline>li:not(:last-child)::after {content: \"\\00b7\"; padding: 0 .5ex}\n</style>\n<ol class=list-inline><li>'case_ids'</li><li>'normal_file_ids'</li><li>'normal_file_names'</li><li>'normal_created_date'</li><li>'normal_updated_date'</li><li>'primary_tumor_file_ids'</li><li>'primary_tumor_file_names'</li><li>'primary_tumor_created_date'</li><li>'primary_tumor_updated_date'</li><li>'date_of_download'</li></ol>\n",
            "text/markdown": "1. 'case_ids'\n2. 'normal_file_ids'\n3. 'normal_file_names'\n4. 'normal_created_date'\n5. 'normal_updated_date'\n6. 'primary_tumor_file_ids'\n7. 'primary_tumor_file_names'\n8. 'primary_tumor_created_date'\n9. 'primary_tumor_updated_date'\n10. 'date_of_download'\n\n\n",
            "text/latex": "\\begin{enumerate*}\n\\item 'case\\_ids'\n\\item 'normal\\_file\\_ids'\n\\item 'normal\\_file\\_names'\n\\item 'normal\\_created\\_date'\n\\item 'normal\\_updated\\_date'\n\\item 'primary\\_tumor\\_file\\_ids'\n\\item 'primary\\_tumor\\_file\\_names'\n\\item 'primary\\_tumor\\_created\\_date'\n\\item 'primary\\_tumor\\_updated\\_date'\n\\item 'date\\_of\\_download'\n\\end{enumerate*}\n",
            "text/plain": " [1] \"case_ids\"                   \"normal_file_ids\"           \n [3] \"normal_file_names\"          \"normal_created_date\"       \n [5] \"normal_updated_date\"        \"primary_tumor_file_ids\"    \n [7] \"primary_tumor_file_names\"   \"primary_tumor_created_date\"\n [9] \"primary_tumor_updated_date\" \"date_of_download\"          "
          },
          "metadata": {}
        },
        {
          "output_type": "display_data",
          "data": {
            "text/html": "<style>\n.list-inline {list-style: none; margin:0; padding: 0}\n.list-inline>li {display: inline-block}\n.list-inline>li:not(:last-child)::after {content: \"\\00b7\"; padding: 0 .5ex}\n</style>\n<ol class=list-inline><li>30</li><li>10</li></ol>\n",
            "text/markdown": "1. 30\n2. 10\n\n\n",
            "text/latex": "\\begin{enumerate*}\n\\item 30\n\\item 10\n\\end{enumerate*}\n",
            "text/plain": "[1] 30 10"
          },
          "metadata": {}
        }
      ]
    },
    {
      "cell_type": "markdown",
      "source": "## 4. Subset, annotate, and transform source data",
      "metadata": {}
    },
    {
      "cell_type": "code",
      "source": "# Set seed for repeatable randomization \nset.seed(200)\n\n# Find all transcripts which contain any instance of the value, 0\ngenes <- column_to_rownames(counts_df, var = \"gene\") %>%\n    apply(1, FUN = min) %>%\n    stack() %>%\n    rename(ensembl_id = ind) %>%\n    filter(values > 0)\n\n# Get all GO annotations with corresponding ENSG value\nallGO2genes <- annFUN.org(\n    whichOnto=\"BP\",\n    feasibleGenes=NULL,\n    mapping=\"org.Hs.eg.db\",\n    ID=\"ensembl\")\n\n# Create a unique list of all GO annotated ENSG genes (~21K genes)\ngo_annotated_ensembl_ids <- stack(allGO2genes) %>%\n    rename(ensembl_ids = values) %>%\n    select(ensembl_ids) %>%\n    distinct() %>%\n    pull(ensembl_ids)\n\n# Subset counts table by removing transcripts containing 0,\n# subset by GO annoated genes, and randomly sample a subset of transcripts\ncounts_df <- counts_df %>%\n    filter(gene %in% genes$ensembl_id) %>%\n    separate(gene, c(\"gene\", NA)) %>%\n    filter(gene %in% go_annotated_ensembl_ids) %>%\n    sample_n(1000) %>%\n    column_to_rownames(\"gene\") %>%\n    t()\n    \n# Show preview of resulting matrix\nhead(counts_df, 3)\ndim(counts_df)",
      "metadata": {
        "trusted": true
      },
      "execution_count": null,
      "outputs": []
    },
    {
      "cell_type": "markdown",
      "source": "### Phenotype Data Transformation",
      "metadata": {}
    },
    {
      "cell_type": "code",
      "source": "tum <- pheno_df %>%\n    select(case_ids, primary_tumor_file_ids) %>%\n    rename(case_id = case_ids, sample_id = primary_tumor_file_ids) %>%\n    mutate(sample_type = \"tumor\") %>%\n    select(case_id, sample_id, sample_type)\n\nnor <- pheno_df %>%\n    select(case_ids, normal_file_ids) %>%\n    rename(case_id = case_ids, sample_id = normal_file_ids) %>%\n    mutate(sample_type = \"normal\") %>%\n    select(case_id, sample_id, sample_type)\n\npheno_df <- tum %>% bind_rows(nor)\nhead(pheno_df, 3)",
      "metadata": {
        "trusted": true
      },
      "execution_count": null,
      "outputs": []
    },
    {
      "cell_type": "markdown",
      "source": "## 5. Show heatmap of transcript co-expression for Tumor and Normal sample sets",
      "metadata": {}
    },
    {
      "cell_type": "markdown",
      "source": "### Transcript co-expression heatmap for Tumor samples",
      "metadata": {}
    },
    {
      "cell_type": "code",
      "source": "tumor_samples <- pheno_df %>%\n    filter(sample_type == \"tumor\") %>%\n    pull(sample_id)\n\ncm = cor(counts_df[tumor_samples,])\nheatmap(cm, labRow = FALSE, labCol = FALSE, main = \"Gene co-expression: Tumor samples\")",
      "metadata": {
        "trusted": true
      },
      "execution_count": null,
      "outputs": []
    },
    {
      "cell_type": "markdown",
      "source": "### Transcript co-expression heatmap for Normal samples",
      "metadata": {}
    },
    {
      "cell_type": "code",
      "source": "normal_samples <- pheno_df %>%\n    filter(sample_type == \"normal\") %>%\n    pull(sample_id)\n\ncm = cor(counts_df[normal_samples,])\nheatmap(cm, labRow = FALSE, labCol = FALSE, main = \"Gene co-expression: Normal samples\")",
      "metadata": {
        "trusted": true
      },
      "execution_count": null,
      "outputs": []
    },
    {
      "cell_type": "markdown",
      "source": "## 6. WGCNA\n<a href=\"https://horvath.genetics.ucla.edu/html/CoexpressionNetwork/Rpackages/WGCNA/#WGCNAIntro\">WGCNA</a> is an R package for weighted correlation network analysis. For additional details in constructing a gene network, please see this public\n <a href=\"https://horvath.genetics.ucla.edu/html/CoexpressionNetwork/Rpackages/WGCNA/Tutorials/index.html\">WGCNA tutorial</a>.",
      "metadata": {}
    },
    {
      "cell_type": "markdown",
      "source": "### Initiate and validate the structure of our data",
      "metadata": {}
    },
    {
      "cell_type": "code",
      "source": "# Form multi-set expression data\nmultiexpr = vector(mode = \"list\", length = 2)\nmultiexpr[[1]] = list(data = as.data.frame(counts_df[tumor_samples, ]))\nmultiexpr[[2]] = list(data = as.data.frame(counts_df[normal_samples, ]))\nprint(checkSets(multiexpr))",
      "metadata": {
        "trusted": true
      },
      "execution_count": null,
      "outputs": []
    },
    {
      "cell_type": "markdown",
      "source": "### Construct Network",
      "metadata": {}
    },
    {
      "cell_type": "code",
      "source": "# Set correlation function to WGCNA\ncor <- WGCNA::cor\n# Parallelize run and leverage multiple threads in mem1_ssd1_x2_16 instance\nallowWGCNAThreads()\nALLOW_WGCNA_THREADS=16\n\n# Build network\nnet <- blockwiseConsensusModules(\n    multiExpr = multiexpr,\n    power = 6,\n    minModuleSize = 30,\n    deepSplit = 2,\n    pamRespectsDendro = FALSE,\n    mergeCutHeight = 0.25,\n    numericLabels = TRUE,\n    minKMEtoStay = 0,\n    saveTOMs = FALSE,\n    verbose = 1)",
      "metadata": {
        "trusted": true
      },
      "execution_count": null,
      "outputs": []
    },
    {
      "cell_type": "code",
      "source": "# Report module count and module size\ntable(net$colors)",
      "metadata": {
        "trusted": true
      },
      "execution_count": null,
      "outputs": []
    },
    {
      "cell_type": "markdown",
      "source": "### Plot hierarchical clustering dendrogram (tree) of our modules",
      "metadata": {}
    },
    {
      "cell_type": "code",
      "source": "plotDendroAndColors(\n    dendro = net$dendrograms[[1]],\n    colors = net$colors,\n    groupLabels = \"Modules\",\n    dendroLabels = FALSE,\n    hang = 0.03,\n    addGuide = TRUE,\n    guideHang = 0.05,\n    main = \"Consensus gene dendrogram and modules by color\")",
      "metadata": {
        "trusted": true
      },
      "execution_count": null,
      "outputs": []
    },
    {
      "cell_type": "markdown",
      "source": "### Compare eigengene networks in Tumor vs. Normal samples",
      "metadata": {}
    },
    {
      "cell_type": "code",
      "source": "consmesc = multiSetMEs(multiexpr, universalColors = net$colors)\nmet = consensusOrderMEs(consmesc)\nplotEigengeneNetworks(met,\n                      setLabels = c(\"tumor\", \"normal\"),\n                      marDendro = c(0,2,2,1),\n                      marHeatmap = c(3,3,2,1),\n                      xLabelsAngle = 90)",
      "metadata": {
        "trusted": true
      },
      "execution_count": null,
      "outputs": []
    },
    {
      "cell_type": "markdown",
      "source": "## 7. Enrichment analysis (GO)",
      "metadata": {}
    },
    {
      "cell_type": "markdown",
      "source": "### Convert module list to DataFrame",
      "metadata": {}
    },
    {
      "cell_type": "code",
      "source": "modules <- stack(net$colors) %>%\n    rename(module = values, ensembl = ind)\nhead(modules, 3)\ndim(modules)",
      "metadata": {
        "trusted": true
      },
      "execution_count": null,
      "outputs": []
    },
    {
      "cell_type": "markdown",
      "source": "### Perform enrichment analysis for each module and return top 10 results for each module",
      "metadata": {}
    },
    {
      "cell_type": "code",
      "source": "# Create list of modules to iterate across\nmodule_list <- modules %>%\n    pull(module) %>%\n    unique() %>%\n    sort()\n\n# Inititate a tibble to append all results\nall_module_results <- tibble()\n\n# Iterate of list of modules\nfor(m in module_list){\n    print(paste(\"...\", \"processing module\", m, \"...\",sep = \" \"))\n    # Generate background genes\n    background_genes <- modules %>% pull(ensembl)\n    # Get all genes in for a specificed module\n    module_set <- modules %>% filter(module == m) %>% pull(ensembl)\n    gene_list_in_module <- factor(as.integer(background_genes %in% module_set))\n    names(gene_list_in_module) = background_genes\n\n    # Initiate new topGOdata class for a given module\n    go_data <- new(\n        \"topGOdata\",\n        ontology = \"BP\",\n        allGenes = gene_list_in_module,\n        annot = annFUN.org,\n        mapping = \"org.Hs.eg.db\",\n        ID = \"ensembl\",\n        nodeSize = 10)\n    \n    # Test for GO enrichment using genes from a given module\n    module_results <- runTest(go_data, algorithm = \"classic\", statistic = \"fisher\")\n    \n    # Create dataframe for results, for a given module and add module\n    module_go_enrichment <- GenTable(go_data, Fisher_pvalue = module_results, topNodes = 10) %>%\n        mutate(module = m)\n    all_module_results <- all_module_results %>%\n        bind_rows(module_go_enrichment)\n}",
      "metadata": {
        "trusted": true
      },
      "execution_count": null,
      "outputs": []
    },
    {
      "cell_type": "markdown",
      "source": "### Show results",
      "metadata": {}
    },
    {
      "cell_type": "code",
      "source": "all_module_results",
      "metadata": {
        "trusted": true
      },
      "execution_count": null,
      "outputs": []
    },
    {
      "cell_type": "markdown",
      "source": "## 8. Upload module data to project",
      "metadata": {}
    },
    {
      "cell_type": "code",
      "source": "# Export the dataframe containing the 10 best terms for each module and save it to our project\nwrite_csv(all_module_results, file = go_file)\nsystem(paste(\"dx upload\", go_file))",
      "metadata": {
        "trusted": true
      },
      "execution_count": null,
      "outputs": []
    }
  ]
}
