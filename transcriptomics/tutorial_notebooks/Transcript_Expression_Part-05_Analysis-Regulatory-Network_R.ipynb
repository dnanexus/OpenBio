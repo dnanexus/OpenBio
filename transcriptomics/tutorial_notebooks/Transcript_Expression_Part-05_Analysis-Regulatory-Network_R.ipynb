{
  "metadata": {
    "kernelspec": {
      "display_name": "R",
      "language": "R",
      "name": "ir"
    },
    "language_info": {
      "name": "R",
      "codemirror_mode": "r",
      "pygments_lexer": "r",
      "mimetype": "text/x-r-source",
      "file_extension": ".r",
      "version": "4.1.2"
    }
  },
  "nbformat_minor": 5,
  "nbformat": 4,
  "cells": [
    {
      "cell_type": "markdown",
      "source": "# Transcriptomics Tutorials\nThis series of notebooks is created to showcase transcript analysis on files. The series consists of the following notebooks:\n- Notebook 1: Expression Data Transformation\n- Notebook 2: Differential Expression Analysis\n- Notebook 3: Gene Set Enrichment Analysis\n- Notebook 4: Gene Co-Expression Analysis\n- Notebook 5: Gene Regulatory Network\n\n# Notebook 5: Gene Regulatory Network\n\nThis notebook is delivered \"As-Is\". Notwithstanding anything to the contrary, DNAnexus will have no warranty, support, liability or other obligations with respect to Materials provided hereunder.\n\n<a href=\"https://github.com/dnanexus/OpenBio/blob/master/LICENSE.md\">MIT License</a> applies to this notebook.",
      "metadata": {}
    },
    {
      "cell_type": "markdown",
      "source": "In this notebook, we perform Gene Regulatory Network analysis to identify regulator genes and their target genes using the R package GENIE3. The GENIE3 (GEne Network Inference with Ensemble of trees) algorithm predicts Gene Regulatory Networks (GRN) based on regression tree-based (Random Forests or Extra-Trees) methods.",
      "metadata": {}
    },
    {
      "cell_type": "markdown",
      "source": "## 1. Preparing your environment\n\n<b>Launch spec:</b> \n- App name: JupyterLab with Python, R, Stata, ML\n- Kernel: R\n- Instance type: mem1_ssd1_v2_x16\n- cost: < $0.15\n- runtime: =~ 8 min\n\n\n<b>Data description:</b> File input for this notebook is a matrix of samples and their respective gene expression counts. This file has the expression counts of 60,483 genes for 60 samples (30 normal, 30 tumor).\n\n<b>Package dependency:</b>\n\n| Package | License | \n| --- | --- |\n| tidyverse | <a href=\"https://github.com/dnanexus/OpenBio/blob/master/LICENSE.md\">MIT License</a> + <a href=\"https://cran.r-project.org/web/packages/tidyverse/LICENSE\">file LICENSE</a> |\n| GENIE3 | <a href=\"https://cran.r-project.org/web/licenses/GPL-2\">GPL-2 </a>, <a href=\"https://cran.r-project.org/web/licenses/GPL-3\">GPL-3 </a> |\n| igraph | <a href=\"https://cran.r-project.org/web/licenses/GPL-2\">GPL-2 </a>, <a href=\"https://cran.r-project.org/web/licenses/GPL-3\">GPL-3 </a> |",
      "metadata": {}
    },
    {
      "cell_type": "markdown",
      "source": "**Install Packages**\n\nUncomment the install commands if you are comfortable with the library license and want to install and run the parts notebook that depend on the library.\n\n_Note: Package installation takes ~5 minutes_",
      "metadata": {}
    },
    {
      "cell_type": "code",
      "source": "# Install the libraries GENIE3 from Bioconductor and its dependencies from CRAN\n# install.packages(\"doRNG\")        # Dependency of doParallel\n# install.packages(\"doParallel\")   # To perform GENIE3 operations, in parallel\n# BiocManager::install(\"GENIE3\")   # Package for Gene Regulatory Network analysis\n# Install the libraries igraph and tidyverse from CRAN\n# install.packages(\"igraph\")       # Package for plotting networks\n# install.packages(\"tidyverse\")    # Required for data handling",
      "metadata": {
        "trusted": true
      },
      "execution_count": null,
      "outputs": []
    },
    {
      "cell_type": "markdown",
      "source": "**Declare input and output file names**\n\nIn notebook 1: Expression Data Transformation, we generated a counts matrix file from individual gene expression files (CPTAC-3_gene_expression_count_matrix.csv) and saved the file in our project on the DNAnexus platform. Select the files to be downloaded and the filename of the output files of this notebook.",
      "metadata": {}
    },
    {
      "cell_type": "code",
      "source": "# Input files\ncounts_file <- \"CPTAC-3_gene_expression_count_matrix.csv\"\n\n# Output file\nwam_file <- \"CPTAC-3_genie3_weighted_adjacency_matrix.csv\"",
      "metadata": {
        "trusted": true
      },
      "execution_count": null,
      "outputs": []
    },
    {
      "cell_type": "markdown",
      "source": "**Download data**\n\nWe download the input file using CLI dx-toolbox command, `dx download <file_name>`.",
      "metadata": {}
    },
    {
      "cell_type": "code",
      "source": "system(paste(\"dx download\", counts_file))",
      "metadata": {
        "trusted": true
      },
      "execution_count": null,
      "outputs": []
    },
    {
      "cell_type": "markdown",
      "source": "_Note: At this point, we suggest creating a snapshot of the environment for resuse --> DNAnexus/Create Snapshot. Once a snapshot is created, the object may be used when launching a new JupyterLab instance and will contain all installed packages and any downloaded data._",
      "metadata": {}
    },
    {
      "cell_type": "markdown",
      "source": "## 2. Load Libraries",
      "metadata": {}
    },
    {
      "cell_type": "code",
      "source": "library(doRNG)\nlibrary(GENIE3)\nlibrary(igraph)\nlibrary(tidyverse)",
      "metadata": {
        "trusted": true
      },
      "execution_count": null,
      "outputs": []
    },
    {
      "cell_type": "markdown",
      "source": "## 3. Load Data",
      "metadata": {}
    },
    {
      "cell_type": "code",
      "source": "# Read in sample expression counts\ncounts_df <- read_csv(counts_file, show_col_types = FALSE)\ncolnames(counts_df)[1:5]\ndim(counts_df)",
      "metadata": {
        "trusted": true
      },
      "execution_count": 6,
      "outputs": [
        {
          "output_type": "display_data",
          "data": {
            "text/html": "<style>\n.list-inline {list-style: none; margin:0; padding: 0}\n.list-inline>li {display: inline-block}\n.list-inline>li:not(:last-child)::after {content: \"\\00b7\"; padding: 0 .5ex}\n</style>\n<ol class=list-inline><li>'gene'</li><li>'0b5a5d3f-0716-4b0c-97eb-773fda630c4a'</li><li>'0b5bb378-3634-476b-90a5-12fce87d85cc'</li><li>'0df7d07d-67cd-4002-9b2b-771c5eb0d128'</li><li>'1139922f-b5e7-49cf-b111-524a79419c84'</li></ol>\n",
            "text/markdown": "1. 'gene'\n2. '0b5a5d3f-0716-4b0c-97eb-773fda630c4a'\n3. '0b5bb378-3634-476b-90a5-12fce87d85cc'\n4. '0df7d07d-67cd-4002-9b2b-771c5eb0d128'\n5. '1139922f-b5e7-49cf-b111-524a79419c84'\n\n\n",
            "text/latex": "\\begin{enumerate*}\n\\item 'gene'\n\\item '0b5a5d3f-0716-4b0c-97eb-773fda630c4a'\n\\item '0b5bb378-3634-476b-90a5-12fce87d85cc'\n\\item '0df7d07d-67cd-4002-9b2b-771c5eb0d128'\n\\item '1139922f-b5e7-49cf-b111-524a79419c84'\n\\end{enumerate*}\n",
            "text/plain": "[1] \"gene\"                                \n[2] \"0b5a5d3f-0716-4b0c-97eb-773fda630c4a\"\n[3] \"0b5bb378-3634-476b-90a5-12fce87d85cc\"\n[4] \"0df7d07d-67cd-4002-9b2b-771c5eb0d128\"\n[5] \"1139922f-b5e7-49cf-b111-524a79419c84\""
          },
          "metadata": {}
        },
        {
          "output_type": "display_data",
          "data": {
            "text/html": "<style>\n.list-inline {list-style: none; margin:0; padding: 0}\n.list-inline>li {display: inline-block}\n.list-inline>li:not(:last-child)::after {content: \"\\00b7\"; padding: 0 .5ex}\n</style>\n<ol class=list-inline><li>60483</li><li>61</li></ol>\n",
            "text/markdown": "1. 60483\n2. 61\n\n\n",
            "text/latex": "\\begin{enumerate*}\n\\item 60483\n\\item 61\n\\end{enumerate*}\n",
            "text/plain": "[1] 60483    61"
          },
          "metadata": {}
        }
      ]
    },
    {
      "cell_type": "markdown",
      "source": "## 4. Subset and transform source data",
      "metadata": {}
    },
    {
      "cell_type": "code",
      "source": "# Set seed for repeatable randomization \nset.seed(200)\n\n# Find all transcripts which contain any instance of the value, 0\ngenes <- column_to_rownames(counts_df, var = \"gene\") %>%\n    apply(1, FUN = min) %>%\n    stack() %>%\n    rename(ensembl_id = ind) %>%\n    filter(values > 0)\n\n# Subset counts table by removing transcripts containing 0,\n# and then randomly sample a subset of transcripts (for the purpose of this tutorial)\ncounts_matrix <- counts_df %>%\n    filter(gene %in% genes$ensembl_id) %>%\n    separate(gene, c(\"gene\", NA)) %>%\n    column_to_rownames(\"gene\") %>%\n    sample_n(1000) %>%\n    as.matrix()\n\n#counts_matrix <- as.matrix(counts_df_subset)\nhead(counts_matrix, 3)\ndim(counts_matrix)",
      "metadata": {
        "trusted": true
      },
      "execution_count": null,
      "outputs": []
    },
    {
      "cell_type": "markdown",
      "source": "## 5. Infer regulatory network (GENIE3)\n<a href=\"https://bioconductor.org/packages/release/bioc/html/GENIE3.html\">GENIE3</a> is an R package for inferring GRNs from gene expression counts data. For additional details regarding modeling and parameter selection, please see this public <a href=\"https://bioconductor.org/packages/release/bioc/vignettes/GENIE3/inst/doc/GENIE3.html\">GENIE3 tutorial</a>.",
      "metadata": {}
    },
    {
      "cell_type": "markdown",
      "source": "#### Infer regulatory network and generate weighted adjacency matrix",
      "metadata": {}
    },
    {
      "cell_type": "code",
      "source": "weight_mat <- GENIE3(\n    exprMatrix = counts_matrix,\n    nCores = 16,\n    returnMatrix = TRUE,\n    verbose = FALSE)\n\nhead(weight_mat, 3)",
      "metadata": {
        "trusted": true
      },
      "execution_count": null,
      "outputs": []
    },
    {
      "cell_type": "markdown",
      "source": "#### Transform weighted adjacency matrix and create a data.frame of subsetted \"edges\"",
      "metadata": {}
    },
    {
      "cell_type": "code",
      "source": "# Created \"linked list\" from a weighted adjacency_matrix\nwam_linked_list <- getLinkList(weightMatrix = weight_mat) %>%\n    mutate_if(is.factor, as.character)\n\n# Inner join the linked list for filtering purposes\nregulatory_join <- inner_join(\n    x = wam_linked_list,\n    y = wam_linked_list,\n    by = c(\"regulatoryGene\" = \"targetGene\", \"targetGene\" = \"regulatoryGene\"))\n\n# Find all cases where the \"left\" weight is greater than the \"right\" weight\n# for a given set of edges with identifical vertices.\nregulatory_left <- regulatory_join %>%\n    filter(weight.x > weight.y) %>%\n    select(-weight.y) %>%\n    rename(weight = weight.x, regulator = regulatoryGene, target = targetGene)\n\n# Find all cases where the \"right\" weight is greather than the \"left\" weight\n# for a given set of edges with identifical vertices and rename columns\nregulatory_right <- regulatory_join %>%\n    filter(weight.x < weight.y) %>%\n    select(-weight.x) %>%\n    rename(weight = weight.y, target = regulatoryGene, regulator = targetGene)\n\n# Bind rows together\nnetwork_df <- regulatory_left %>%\n    bind_rows(regulatory_right) %>%\n    distinct()\n    \nhead(network_df, 3)\ndim(network_df)",
      "metadata": {
        "trusted": true
      },
      "execution_count": null,
      "outputs": []
    },
    {
      "cell_type": "markdown",
      "source": "## 6. Build network graph",
      "metadata": {}
    },
    {
      "cell_type": "markdown",
      "source": "#### Build graph object and identify \"hub\" regulator genes",
      "metadata": {}
    },
    {
      "cell_type": "code",
      "source": "# Subset edges by weight, keeping top edges\nq_weight <- quantile(network_df$weight, probs = (0.999))\nnetwork_subset_df <- filter(network_df, weight > q_weight)\n\n# Create a graph from the subsetted data.frame\nnet <- graph_from_data_frame(network_subset_df, directed=T)\n\n# Identify \"hub\" regulator genes\ndegree <- degree(net, mode=\"out\")\nq_degree <- quantile(degree, probs = c(0.90))\ndegree_color <- if_else(degree > q_degree, \"blue\", \"yellow\")\nnames(degree_color) <- names(degree)\nhub_genes <- enframe(degree_color) %>% filter(value == \"blue\") %>% pull(name)\n\n# Get a list of the genes regulated by hub genes\nhub_target_df <- network_subset_df %>%\n  filter(regulator %in% hub_genes) %>%\n  arrange(regulator, desc(weight)) %>%\n  rename(regulator_hub = regulator)\n\nhead(hub_target_df, 3)",
      "metadata": {
        "trusted": true
      },
      "execution_count": null,
      "outputs": []
    },
    {
      "cell_type": "markdown",
      "source": "#### Plot network with gene hubs (blue)",
      "metadata": {}
    },
    {
      "cell_type": "code",
      "source": "plot(\n    x = net,\n    vertex.size = 5,\n    vertex.color = degree_color,\n    vertex.label = NA,\n    edge.arrow.size=0,\n    edge.width = 2\n)",
      "metadata": {
        "trusted": true
      },
      "execution_count": null,
      "outputs": []
    },
    {
      "cell_type": "markdown",
      "source": "## 7. Upload all edges to project",
      "metadata": {}
    },
    {
      "cell_type": "code",
      "source": "# Export the weighted adjacency matrix as a \"linked list\"\nwrite_csv(wam_linked_list, file = wam_file)\nsystem(paste(\"dx upload\",  wam_file))",
      "metadata": {
        "trusted": true
      },
      "execution_count": null,
      "outputs": []
    }
  ]
}
