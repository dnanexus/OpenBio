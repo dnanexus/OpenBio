{
  "metadata": {
    "kernelspec": {
      "display_name": "R",
      "language": "R",
      "name": "ir"
    },
    "language_info": {
      "name": "R",
      "codemirror_mode": "r",
      "pygments_lexer": "r",
      "mimetype": "text/x-r-source",
      "file_extension": ".r",
      "version": "4.1.2"
    }
  },
  "nbformat_minor": 5,
  "nbformat": 4,
  "cells": [
    {
      "cell_type": "markdown",
      "source": "# Transcriptomics Tutorials\nThis series of notebooks is created to showcase transcript analysis on files. The series consists of the following notebooks:\n- Notebook 1: Expression Data Transformation\n- Notebook 2: Differential Expression Analysis\n- Notebook 3: Gene Set Enrichment Analysis\n- Notebook 4: Gene Co-Expression Analysis\n- Notebook 5: Gene Regulatory Network\n\n\n# Notebook 1: Expression Data Transformation\nThis notebook is delivered \"As-Is\". Notwithstanding anything to the contrary, DNAnexus will have no warranty, support, liability or other obligations with respect to Materials provided hereunder.\n\n<a href=\"https://github.com/dnanexus/OpenBio/blob/master/LICENSE.md\">MIT License</a> applies to this notebook.\n\nIn this notebook, we transform the individual gene expression files into a gene counts matrix, having one transcript per row and one sample per column.",
      "metadata": {}
    },
    {
      "cell_type": "markdown",
      "source": "## 1. Preparing your environment\n\n<b>Launch spec:</b> \n- App name: JupyterLab with Python, R, Stata, ML\n- Kernel: R\n- Instance type: mem1_ssd1_v2_x16\n- cost: < $0.2\n- runtime: =~ 5 min\n\n\n<b>Data description:</b> File input for this notebook is \n1. A set of 60 individual gene expression files stored in the `Input` folder in our project. \n2. A summary file giving the file names and IDs of normal tissue and tumor samples.\n\n<b>Package dependency:</b> \n\n| Package | License | \n| --- | --- |\n| tidyverse | <a href=\"https://github.com/dnanexus/OpenBio/blob/master/LICENSE.md\">MIT License</a> + <a href=\"https://cran.r-project.org/web/packages/tidyverse/LICENSE\">file LICENSE</a> |",
      "metadata": {}
    },
    {
      "cell_type": "markdown",
      "source": "**Install Packages**\n\nUncomment the install commands if you are comfortable with the library license and want to install and run the parts notebook that depend on the library.",
      "metadata": {}
    },
    {
      "cell_type": "code",
      "source": "# Install the library tidyverse from CRAN \n# install.packages(\"tidyverse\")",
      "metadata": {
        "trusted": true
      },
      "execution_count": null,
      "outputs": []
    },
    {
      "cell_type": "markdown",
      "source": "**Declare input and output file names**\n\nWe have downloaded individual gene expression files from GDC and saved them to our DNAnexus project. We also created a manifest file containing details of the downloaded files, such as their file IDs, file names, date of download etc, and saved it as a csv in our project. Select the files to be downloaded and the filename of the output file of this notebook.",
      "metadata": {}
    },
    {
      "cell_type": "code",
      "source": "# Input files\npheno_file <- \"CPTAC-3_pheno_summary.csv\"\ninput_data_folder <- \"Input\"\n\n# Output file\ncounts_file <- \"CPTAC-3_gene_expression_count_matrix.csv\"",
      "metadata": {
        "trusted": true
      },
      "execution_count": null,
      "outputs": []
    },
    {
      "cell_type": "markdown",
      "source": "**Download Data**\n \nTo download content from our project to local JupyterLab instance, we may use the following CLI dx-toolbox commands: \n- `dx download <file-name>` # for downloading a file\n- `dx download -r <folder_name>` # for downloading the contents of a folder recursively.",
      "metadata": {}
    },
    {
      "cell_type": "code",
      "source": "file_download_cmd<- paste(\"dx download\", pheno_file)\nsystem(file_download_cmd)\n\nfolder_download_cmd<- paste(\"dx download -r\" , input_data_folder)\nsystem(folder_download_cmd) \n\nsystem(paste(\"ls\",  input_data_folder), intern = TRUE)",
      "metadata": {
        "trusted": true
      },
      "execution_count": null,
      "outputs": []
    },
    {
      "cell_type": "markdown",
      "source": "**Load Library**",
      "metadata": {}
    },
    {
      "cell_type": "code",
      "source": "library(tidyverse)",
      "metadata": {
        "trusted": true
      },
      "execution_count": null,
      "outputs": []
    },
    {
      "cell_type": "markdown",
      "source": "## 2. Load data",
      "metadata": {}
    },
    {
      "cell_type": "code",
      "source": "summary_df <- read_csv(pheno_file, show_col_types = FALSE)\ncolnames(summary_df)\ndim(summary_df)",
      "metadata": {
        "trusted": true
      },
      "execution_count": 6,
      "outputs": [
        {
          "output_type": "display_data",
          "data": {
            "text/html": "<style>\n.list-inline {list-style: none; margin:0; padding: 0}\n.list-inline>li {display: inline-block}\n.list-inline>li:not(:last-child)::after {content: \"\\00b7\"; padding: 0 .5ex}\n</style>\n<ol class=list-inline><li>'case_ids'</li><li>'normal_file_ids'</li><li>'normal_file_names'</li><li>'normal_created_date'</li><li>'normal_updated_date'</li><li>'primary_tumor_file_ids'</li><li>'primary_tumor_file_names'</li><li>'primary_tumor_created_date'</li><li>'primary_tumor_updated_date'</li><li>'date_of_download'</li></ol>\n",
            "text/markdown": "1. 'case_ids'\n2. 'normal_file_ids'\n3. 'normal_file_names'\n4. 'normal_created_date'\n5. 'normal_updated_date'\n6. 'primary_tumor_file_ids'\n7. 'primary_tumor_file_names'\n8. 'primary_tumor_created_date'\n9. 'primary_tumor_updated_date'\n10. 'date_of_download'\n\n\n",
            "text/latex": "\\begin{enumerate*}\n\\item 'case\\_ids'\n\\item 'normal\\_file\\_ids'\n\\item 'normal\\_file\\_names'\n\\item 'normal\\_created\\_date'\n\\item 'normal\\_updated\\_date'\n\\item 'primary\\_tumor\\_file\\_ids'\n\\item 'primary\\_tumor\\_file\\_names'\n\\item 'primary\\_tumor\\_created\\_date'\n\\item 'primary\\_tumor\\_updated\\_date'\n\\item 'date\\_of\\_download'\n\\end{enumerate*}\n",
            "text/plain": " [1] \"case_ids\"                   \"normal_file_ids\"           \n [3] \"normal_file_names\"          \"normal_created_date\"       \n [5] \"normal_updated_date\"        \"primary_tumor_file_ids\"    \n [7] \"primary_tumor_file_names\"   \"primary_tumor_created_date\"\n [9] \"primary_tumor_updated_date\" \"date_of_download\"          "
          },
          "metadata": {}
        },
        {
          "output_type": "display_data",
          "data": {
            "text/html": "<style>\n.list-inline {list-style: none; margin:0; padding: 0}\n.list-inline>li {display: inline-block}\n.list-inline>li:not(:last-child)::after {content: \"\\00b7\"; padding: 0 .5ex}\n</style>\n<ol class=list-inline><li>30</li><li>10</li></ol>\n",
            "text/markdown": "1. 30\n2. 10\n\n\n",
            "text/latex": "\\begin{enumerate*}\n\\item 30\n\\item 10\n\\end{enumerate*}\n",
            "text/plain": "[1] 30 10"
          },
          "metadata": {}
        }
      ]
    },
    {
      "cell_type": "markdown",
      "source": "Now, let's preview the data using the function, `head()`, which returns the column names, the column data type, and the first n rows (lines) of the data.",
      "metadata": {}
    },
    {
      "cell_type": "code",
      "source": "head(summary_df, 3)",
      "metadata": {
        "trusted": true
      },
      "execution_count": null,
      "outputs": []
    },
    {
      "cell_type": "markdown",
      "source": "## 3. Read the input files and form the counts matrix\n\nThe STAR gene counts file consists of 4 columns which correspond to different strandedness options:\n\n- column 1: gene ID\n- column 2: counts for unstranded RNA-seq\n- column 3: counts for the 1st read strand aligned with RNA\n- column 4: counts for the 2nd read strand aligned with RNA\n\nWe will use only the gene ID and unstranded RNA-seq counts columns for this analysis.",
      "metadata": {}
    },
    {
      "cell_type": "markdown",
      "source": "#### Read in the individual gene expression files and join them to form a tibble",
      "metadata": {}
    },
    {
      "cell_type": "code",
      "source": "# Transform summary file for easy iteration\n# Extract normal sample file name and id\nnor <- summary_df %>%\n    select(normal_file_ids, normal_file_names) %>%\n    rename(file_id = normal_file_ids, file_name = normal_file_names)\n\n# Extract tumor sample file name and id\ntum <- summary_df %>%\n    select(primary_tumor_file_ids, primary_tumor_file_names) %>%\n    rename(file_id = primary_tumor_file_ids, file_name = primary_tumor_file_names)\n\n# Append normal and tumor file name and ids\nsamples <- nor %>%\n    bind_rows(tum)",
      "metadata": {
        "trusted": true
      },
      "execution_count": null,
      "outputs": []
    },
    {
      "cell_type": "code",
      "source": "setwd(input_data_folder)",
      "metadata": {
        "trusted": true
      },
      "execution_count": null,
      "outputs": []
    },
    {
      "cell_type": "code",
      "source": "# Inititate data structure\ntb_counts_long <- tibble()\n\n# Iterate over sample data, and read in both \n# tumor and normal samples to create a \"long\" tibble\nfor (i in 1:nrow(samples)) {\n    # Read in file\n    tb_tmp <- read_tsv(file = samples$file_name[i],\n                    col_names = TRUE,\n                    show_col_types = FALSE) %>%\n        select(\"#gene\", \"unstranded\") %>%\n        rename(gene = \"#gene\", value = \"unstranded\") %>%\n        mutate(id = samples$file_id[i])\n    \n    # Add file contents to existing data structure\n    tb_counts_long <- tb_counts_long %>%\n        bind_rows(tb_tmp)\n}",
      "metadata": {
        "trusted": true
      },
      "execution_count": null,
      "outputs": []
    },
    {
      "cell_type": "code",
      "source": "# Convert \"long\" tibble to \"wide\" tibble\n# Remove the rows that don't have counts of genes, \n# i.e. remove any rows where the gene name does not start with \"ENSG\"\ntb_counts_wide <- tb_counts_long %>%\n    spread(id, value) %>%\n    filter(str_detect(gene, \"^ENSG\"))\n\nhead(tb_counts_wide)\ndim(tb_counts_wide)",
      "metadata": {
        "trusted": true
      },
      "execution_count": null,
      "outputs": []
    },
    {
      "cell_type": "markdown",
      "source": "## 4. Export and save the counts matrix\nWe upload content to our project on the DNAnexus platform from our local JupyterLab instance, using the CLI dx-toolbox command, `dx upload <file_name>`",
      "metadata": {}
    },
    {
      "cell_type": "code",
      "source": "# Export the counts matrix to Gene_Expression_count_all_samples.csv\nwrite_csv(tb_counts_wide, counts_file)",
      "metadata": {
        "trusted": true
      },
      "execution_count": null,
      "outputs": []
    },
    {
      "cell_type": "code",
      "source": "# Upload the counts csv to the project\nsystem(paste(\"dx upload\", counts_file)",
      "metadata": {
        "trusted": true
      },
      "execution_count": null,
      "outputs": []
    }
  ]
}
