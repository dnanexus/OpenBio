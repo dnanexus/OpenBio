{
  "metadata": {
    "kernelspec": {
      "display_name": "R",
      "language": "R",
      "name": "ir"
    },
    "language_info": {
      "codemirror_mode": "r",
      "file_extension": ".r",
      "mimetype": "text/x-r-source",
      "name": "R",
      "pygments_lexer": "r",
      "version": "4.1.2"
    }
  },
  "nbformat_minor": 5,
  "nbformat": 4,
  "cells": [
    {
      "cell_type": "markdown",
      "source": "# Transcriptomics Tutorials\nThis series of notebooks is created to showcase transcript analysis on files. The series consists of the following notebooks:\n- Notebook 1: Expression Data Transformation\n- Notebook 2: Differential Expression Analysis\n- Notebook 3: Gene Set Enrichment Analysis\n- Notebook 4: Gene Co-Expression Analysis\n- Notebook 5: Gene Regulatory Network\n\n# Notebook 2: Differential Expression Analysis\nThis notebook is delivered \"As-Is\". Notwithstanding anything to the contrary, DNAnexus will have no warranty, support, liability or other obligations with respect to Materials provided hereunder.\n\n<a href=\"https://github.com/dnanexus/OpenBio/blob/master/LICENSE.md\">MIT License</a> applies to this notebook.\n\nIn this notebook, we will compare normal and primary tumor tissue samples to identify which genes are differentially expressed, using the DESeq2 algorithm. DESeq2 is a simple yet powerful tool that performs differential gene expression analysis based on the negative binomial distribution, using normalized gene expression counts data to identify genes that are differentially expressed in one set of sample with respect to another. Here, we will be comparing normal tissue samples with primary tumor samples in the kidney to understand which genes are differentially expressed.",
      "metadata": {}
    },
    {
      "cell_type": "markdown",
      "source": "## 1. Preparing your environment\n\n<b>Launch spec:</b> \n- App name: JupyterLab with Python, R, Stata, ML\n- Kernel: R\n- Instance type: mem1_ssd1_v2_x16\n- cost: < $0.25\n- runtime: =~ 15 min\n\n\n<b>Data description:</b> The inputs for this notebook are \n1. A matrix of samples and their respective gene expression counts.This file has the expression counts of 60,483 genes for 60 samples (30 normal, 30 tumor).\n2. A summary file giving the file names and IDs of normal tissue and tumor samples.\n\n<b>Package dependency:</b>\n\n| Package | License | \n| --- | --- |\n| tidyverse | <a href=\"https://github.com/dnanexus/OpenBio/blob/master/LICENSE.md\">MIT License</a> + <a href=\"https://cran.r-project.org/web/packages/tidyverse/LICENSE\">file LICENSE</a> |\n| DESeq2 | <a href=\"https://www.gnu.org/licenses/lgpl-3.0.en.html\">LGPL (>= 3)</a>",
      "metadata": {}
    },
    {
      "cell_type": "markdown",
      "source": "**Install Packages**\n\nUncomment the install commands if you are comfortable with the library license and want to install and run the parts notebook that depend on the library.\n\n_Note: Package installation takes ~10 minutes_",
      "metadata": {}
    },
    {
      "cell_type": "code",
      "source": "# Install the library tidyverse from CRAN \n# install.packages(\"tidyverse\")\n# Install the library DESeq2 from Bioconductor\n# BiocManager::install(\"DESeq2\")",
      "metadata": {
        "trusted": true
      },
      "execution_count": null,
      "outputs": []
    },
    {
      "cell_type": "markdown",
      "source": "**Declare input and output file names**\n\nIn notebook 1: Expression Data Transformation, we generated a counts matrix file from individual gene expression files (CPTAC-3_gene_expression_count_matrix.csv) and saved it in our project on the DNAnexus platform. We also have a manifest file (CPTAC-3_pheno_summary.csv) giving phenotype and file ids of the samples we're about to analyze. Select the files to be downloaded and the filename of the output file of this notebook.",
      "metadata": {}
    },
    {
      "cell_type": "code",
      "source": "# Input files\ncounts_file <- \"CPTAC-3_gene_expression_count_matrix.csv\"\npheno_file <- \"CPTAC-3_pheno_summary.csv\"\n\n# Output file\ndeseq_results_file <- \"CPTAC-3_deseq2_all_genes.csv\"",
      "metadata": {
        "trusted": true
      },
      "execution_count": null,
      "outputs": []
    },
    {
      "cell_type": "markdown",
      "source": "**Download Data**\n\n We download these files using CLI dx-toolbox command, `dx download <file_name>`. ",
      "metadata": {}
    },
    {
      "cell_type": "code",
      "source": "system(paste(\"dx download\", counts_file))\nsystem(paste(\"dx download\", pheno_file))",
      "metadata": {
        "trusted": true
      },
      "execution_count": null,
      "outputs": []
    },
    {
      "cell_type": "markdown",
      "source": "_Note: At this point, we suggest creating a snapshot of the environment for resuse --> DNAnexus/Create SnapshotOnce a snapshot is created, the object may be used when launching a new JupyterLab instance and will contain all installed packages and any downloaded data._",
      "metadata": {}
    },
    {
      "cell_type": "markdown",
      "source": "## 2. Load Libraries",
      "metadata": {}
    },
    {
      "cell_type": "code",
      "source": "library(DESeq2)\nlibrary(tidyverse)",
      "metadata": {
        "trusted": true
      },
      "execution_count": null,
      "outputs": []
    },
    {
      "cell_type": "markdown",
      "source": "## 3. Load Data",
      "metadata": {}
    },
    {
      "cell_type": "code",
      "source": "# Read the counts dataframe\ncounts_df <- read_csv(counts_file, show_col_types = FALSE)\ncolnames(counts_df)[1:5]\ndim(counts_df)",
      "metadata": {
        "trusted": true
      },
      "execution_count": 18,
      "outputs": [
        {
          "output_type": "display_data",
          "data": {
            "text/html": "<style>\n.list-inline {list-style: none; margin:0; padding: 0}\n.list-inline>li {display: inline-block}\n.list-inline>li:not(:last-child)::after {content: \"\\00b7\"; padding: 0 .5ex}\n</style>\n<ol class=list-inline><li>'gene'</li><li>'0b5a5d3f-0716-4b0c-97eb-773fda630c4a'</li><li>'0b5bb378-3634-476b-90a5-12fce87d85cc'</li><li>'0df7d07d-67cd-4002-9b2b-771c5eb0d128'</li><li>'1139922f-b5e7-49cf-b111-524a79419c84'</li></ol>\n",
            "text/markdown": "1. 'gene'\n2. '0b5a5d3f-0716-4b0c-97eb-773fda630c4a'\n3. '0b5bb378-3634-476b-90a5-12fce87d85cc'\n4. '0df7d07d-67cd-4002-9b2b-771c5eb0d128'\n5. '1139922f-b5e7-49cf-b111-524a79419c84'\n\n\n",
            "text/latex": "\\begin{enumerate*}\n\\item 'gene'\n\\item '0b5a5d3f-0716-4b0c-97eb-773fda630c4a'\n\\item '0b5bb378-3634-476b-90a5-12fce87d85cc'\n\\item '0df7d07d-67cd-4002-9b2b-771c5eb0d128'\n\\item '1139922f-b5e7-49cf-b111-524a79419c84'\n\\end{enumerate*}\n",
            "text/plain": "[1] \"gene\"                                \n[2] \"0b5a5d3f-0716-4b0c-97eb-773fda630c4a\"\n[3] \"0b5bb378-3634-476b-90a5-12fce87d85cc\"\n[4] \"0df7d07d-67cd-4002-9b2b-771c5eb0d128\"\n[5] \"1139922f-b5e7-49cf-b111-524a79419c84\""
          },
          "metadata": {}
        },
        {
          "output_type": "display_data",
          "data": {
            "text/html": "<style>\n.list-inline {list-style: none; margin:0; padding: 0}\n.list-inline>li {display: inline-block}\n.list-inline>li:not(:last-child)::after {content: \"\\00b7\"; padding: 0 .5ex}\n</style>\n<ol class=list-inline><li>60483</li><li>61</li></ol>\n",
            "text/markdown": "1. 60483\n2. 61\n\n\n",
            "text/latex": "\\begin{enumerate*}\n\\item 60483\n\\item 61\n\\end{enumerate*}\n",
            "text/plain": "[1] 60483    61"
          },
          "metadata": {}
        }
      ]
    },
    {
      "cell_type": "code",
      "source": "# Read the summary table\nsummary_df <- read_csv(pheno_file, show_col_types = FALSE)\ncolnames(summary_df)\ndim(summary_df)",
      "metadata": {
        "trusted": true
      },
      "execution_count": 19,
      "outputs": [
        {
          "output_type": "display_data",
          "data": {
            "text/html": "<style>\n.list-inline {list-style: none; margin:0; padding: 0}\n.list-inline>li {display: inline-block}\n.list-inline>li:not(:last-child)::after {content: \"\\00b7\"; padding: 0 .5ex}\n</style>\n<ol class=list-inline><li>'case_ids'</li><li>'normal_file_ids'</li><li>'normal_file_names'</li><li>'normal_created_date'</li><li>'normal_updated_date'</li><li>'primary_tumor_file_ids'</li><li>'primary_tumor_file_names'</li><li>'primary_tumor_created_date'</li><li>'primary_tumor_updated_date'</li><li>'date_of_download'</li></ol>\n",
            "text/markdown": "1. 'case_ids'\n2. 'normal_file_ids'\n3. 'normal_file_names'\n4. 'normal_created_date'\n5. 'normal_updated_date'\n6. 'primary_tumor_file_ids'\n7. 'primary_tumor_file_names'\n8. 'primary_tumor_created_date'\n9. 'primary_tumor_updated_date'\n10. 'date_of_download'\n\n\n",
            "text/latex": "\\begin{enumerate*}\n\\item 'case\\_ids'\n\\item 'normal\\_file\\_ids'\n\\item 'normal\\_file\\_names'\n\\item 'normal\\_created\\_date'\n\\item 'normal\\_updated\\_date'\n\\item 'primary\\_tumor\\_file\\_ids'\n\\item 'primary\\_tumor\\_file\\_names'\n\\item 'primary\\_tumor\\_created\\_date'\n\\item 'primary\\_tumor\\_updated\\_date'\n\\item 'date\\_of\\_download'\n\\end{enumerate*}\n",
            "text/plain": " [1] \"case_ids\"                   \"normal_file_ids\"           \n [3] \"normal_file_names\"          \"normal_created_date\"       \n [5] \"normal_updated_date\"        \"primary_tumor_file_ids\"    \n [7] \"primary_tumor_file_names\"   \"primary_tumor_created_date\"\n [9] \"primary_tumor_updated_date\" \"date_of_download\"          "
          },
          "metadata": {}
        },
        {
          "output_type": "display_data",
          "data": {
            "text/html": "<style>\n.list-inline {list-style: none; margin:0; padding: 0}\n.list-inline>li {display: inline-block}\n.list-inline>li:not(:last-child)::after {content: \"\\00b7\"; padding: 0 .5ex}\n</style>\n<ol class=list-inline><li>30</li><li>10</li></ol>\n",
            "text/markdown": "1. 30\n2. 10\n\n\n",
            "text/latex": "\\begin{enumerate*}\n\\item 30\n\\item 10\n\\end{enumerate*}\n",
            "text/plain": "[1] 30 10"
          },
          "metadata": {}
        }
      ]
    },
    {
      "cell_type": "markdown",
      "source": "## 4. Subset, annotate, and transform source data\n",
      "metadata": {}
    },
    {
      "cell_type": "markdown",
      "source": "#### Filter out low expression genes\nRemove all genes where any sample indicates no expression (i.e, expression value is 0)",
      "metadata": {}
    },
    {
      "cell_type": "code",
      "source": "counts_df <- counts_df %>%\n    filter(rowCounts(.[] == 0) == 0) %>%\n    column_to_rownames(var = \"gene\")\n\nhead(counts_df, 3)\ndim(counts_df)",
      "metadata": {
        "trusted": true
      },
      "execution_count": null,
      "outputs": []
    },
    {
      "cell_type": "markdown",
      "source": "#### Create phenotype dataframe\nThe first column of this dataframe is the sample ID and the second column is phenotype. Phenotype definition is binary (normal -vs- tumor), and each sample is either normal or tumor.",
      "metadata": {}
    },
    {
      "cell_type": "code",
      "source": "nor <- summary_df %>%\n  select(normal_file_ids) %>%\n  rename(sample_id = normal_file_ids) %>%\n  mutate(sample_type = \"normal\")\n\ntum <- summary_df %>%\n  select(primary_tumor_file_ids) %>%\n  rename(sample_id = primary_tumor_file_ids) %>%\n  mutate(sample_type = \"tumor\")\n\npheno_table <- nor %>%\n  bind_rows(tum)\n\nhead(pheno_table, 3)\ndim(pheno_table)",
      "metadata": {
        "trusted": true
      },
      "execution_count": null,
      "outputs": []
    },
    {
      "cell_type": "markdown",
      "source": "## 5. Run DESeq",
      "metadata": {}
    },
    {
      "cell_type": "markdown",
      "source": "#### Build a DESeq dataset and perform analysis",
      "metadata": {}
    },
    {
      "cell_type": "code",
      "source": "# Sort counts by sample order in phenotype\nsample_id <- pheno_table %>% pull(sample_id)\ncounts_df <- counts_df[, sample_id]\n\n# Specify the sample condition (tumor vs. normal)\ncondition <- as.factor(pheno_table$sample_type)\n\n# Create DESeq object and run DESeq\ndeseq_object <- DESeqDataSetFromMatrix(\n    countData = counts_df,\n    colData = DataFrame(condition),\n    design = ~ condition)\ndeseq_dataset <- DESeq(deseq_object)\n\n# Extract results\nresults <- results(deseq_dataset)\nresults",
      "metadata": {
        "trusted": true
      },
      "execution_count": null,
      "outputs": []
    },
    {
      "cell_type": "markdown",
      "source": "## 6. Plot results",
      "metadata": {}
    },
    {
      "cell_type": "markdown",
      "source": "#### Convert results to a data.frame",
      "metadata": {}
    },
    {
      "cell_type": "code",
      "source": "results_df <- data.frame(results) %>%\n    rownames_to_column(var = \"gene\")\nhead(results_df, 3)\ndim(results_df)",
      "metadata": {
        "trusted": true
      },
      "execution_count": null,
      "outputs": []
    },
    {
      "cell_type": "markdown",
      "source": "#### Create plot ",
      "metadata": {}
    },
    {
      "cell_type": "code",
      "source": "volcano_plot <- ggplot(results_df, aes(x = log2FoldChange, y = -log10(padj))) +\n    geom_point(alpha = 0.5, size = 3) +\n    labs(x = \"log2 fold change\", y = \"-log10 adjusted p-value\") +\n    ggtitle(\"Differential Gene Expression, Volcano Plot\")\n\nvolcano_plot",
      "metadata": {
        "trusted": true
      },
      "execution_count": null,
      "outputs": []
    },
    {
      "cell_type": "markdown",
      "source": "## 7. Export tabular results for all genes to the platform",
      "metadata": {}
    },
    {
      "cell_type": "code",
      "source": "write_csv(results_df, file = deseq_results_file)\nsystem(paste(\"dx upload\", deseq_results_file))",
      "metadata": {
        "trusted": true
      },
      "execution_count": null,
      "outputs": []
    }
  ]
}
