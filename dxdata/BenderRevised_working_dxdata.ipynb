{
 "cells": [
  {
   "cell_type": "markdown",
   "metadata": {},
   "source": [
    "# Working with dxdata \n",
    "#### Datasets and Cohorts"
   ]
  },
  {
   "cell_type": "markdown",
   "metadata": {},
   "source": [
    "`dxdata` is a python module developed and maintained by DNAnexus. The module contains functionality to access and describe data within Apollo by leveraging Dataset and Cohort objects. A Dataset object contains content that describes logical content in data and maps the logical data organization to the physical location of data stored in a database. It allows assign _something_ a \"Sample ID,\" a term with specific attributes, and easily store, retrieve, and use that term in a consistent manner. Below, we walk through highlights of `dxdata` specifically around initiating a spark cluster, pulling a datasets/cohort, exploring the data, and retrieving data to a dataframe.\n",
    "\n",
    "This notebook is delivered \"As-Is\". Notwithstanding anthing to the contrary, [DNAnexus] will have no warranty, support  or other obligations with respect to [Materials] provided hereunder."   ]
  },
  {
   "cell_type": "markdown",
   "metadata": {},
   "source": [
    "### Import dxdata and initiate Spark cluster"
   ]
  },
  {
   "cell_type": "code",
   "execution_count": 1,
   "metadata": {},
   "outputs": [],
   "source": [
    "import dxdata\n",
    "import databricks.koalas as ks"
   ]
  },
  {
   "cell_type": "code",
   "execution_count": 2,
   "metadata": {},
   "outputs": [],
   "source": [
    "# Connect to Spark\n",
    "engine = dxdata.connect(dialect=\"hive+pyspark\")"
   ]
  },
  {
   "cell_type": "markdown",
   "metadata": {},
   "source": [
    "### dxdata.dataset"
   ]
  },
  {
   "cell_type": "markdown",
   "metadata": {},
   "source": [
    "`dxdata` contains the following classes and respective attributes within the `dataset` sub-module. Items in **bold** are attributes that are commonly used in the provided JupyterLab Notebooks that leverage `dxdata`.\n",
    "\n",
    "- Datasets\n",
    "    - **_entities_** (list of Entity): Entities in the dataset.\n",
    "    - _edges_ (list of Edge): Graph edges connecting entities.\n",
    "    - _folders_ (list of dict/string): Folder hierarchy to organize fields in the UI.\n",
    "    - _primary_entity_ (str): Name of the entry containing the global primary key.\n",
    "    - _dashboards_ (dict or None): Mapping of dashboard names to dxlinks\n",
    "    - **_pheno_geno_link_info_** (dict or None): Identifiers for the subject-assay linking table.\n",
    "\n",
    "\n",
    "- Entity\n",
    "    - **_name_** (str): Logical name for the entity. From the data dictionary column \"entity\".\n",
    "    - **_fields_** (list of Field): Fields associated with this entity.\n",
    "    - **_database_name_** (str): Name of the database containing this entity's data.\n",
    "    - _database_id_ (str): Platform ID of the data object, e.g. \"database-xxxx\".\n",
    "    - _primary_key_ (str): Name of the field to use as the primary key for database operations. Derived from the data dictionary column \"primary_key_type\".\n",
    "    - _longitudinal_axis_ (str): Name of the field to use as the default longitudinal axis for analysis. Derived from the data dictionary column \"is_longitudinal_axis\".\n",
    "\n",
    "\n",
    "- Field - Represents all other DataDictionary columns not covered by Entity and Edge \n",
    "    - **_name_** (str): Field's internal name.\n",
    "    - _type_ (str): Primitive type name, e.g. \"integer\", \"string\", \"date\" ...\n",
    "    - **_table_name_** (str): Database table where this field's data values are stored.\n",
    "    - **_column_name_** (str): Database column where field values are stored.\n",
    "    - **_coding_** (Coding): Coding instance that applies to this field's values.\n",
    "    - _is_multi_select_ (bool): Whether the field can contain multiple values per cell (array/set type)\n",
    "    - _is_sparse_coding_ (bool): Whether all data values should be covered by codings.\n",
    "    - **_title_** (str): Optional.\n",
    "    - _description_ (str): Optional.\n",
    "    - _units_ (str): Optional.\n",
    "    - _concept_ (str): Optional.\n",
    "    - _linkout_ (str): Optional.\n",
    "    - ** kwargs (dict of strings): Arbitrary additional attributes with string values.\n",
    "\n",
    "\n",
    "- Edge - Represents DataDictionary columns: referenced_entity_field, relationship. Determines join_info. All joins are left joins.\n",
    "    - _source_entity_ (str): Existing entity name\n",
    "    - _source_field_ (str): Name of existing field in `source_entity`\n",
    "    - _dest_entity_ (str): Existing entity name\n",
    "    - _dest_field_ (str): Name of existing field in `dest_entity`\n",
    "    - _relationship_ (str): \"one_to_one\" or \"many_to_one\"\n",
    "\n",
    "\n",
    "- Coding - Capture meanings and hierarchy for categorical values.\n",
    "    - _name_ (str): Name for the coding. (May be applied to multiple fields.)\n",
    "    - **_codes_** (dict): Corresponds to 'encoding' element in descriptor JSON.\n",
    "    - _hierarchy_ (list): Corresponds to 'hierarchy' element in descriptor JSON."
   ]
  },
  {
   "cell_type": "markdown",
   "metadata": {},
   "source": [
    "### Global functions in `dxdata` for loading data:\n",
    "- _load_cohort_ : Read the contents of a cohort record on the platform.\n",
    "- _load_dataset_ : Read the contents of a Dataset record on the platform.\n",
    "   "
   ]
  },
  {
   "cell_type": "markdown",
   "metadata": {},
   "source": [
    "### A Dataset contains defined attributes, such as entities\n",
    "#### Let's load a dataset to examine all attributes"
   ]
  },
  {
   "cell_type": "code",
   "execution_count": 3,
   "metadata": {},
   "outputs": [],
   "source": [
    "# load with record ID\n",
    "dataset = dxdata.load_dataset(id='record-G3814k006Fjgk5J74Kx3X1QG')\n",
    "\n",
    "# OR with path to the dataset\n",
    "# dataset = dxdata.load_dataset(''/Datasets/Demo Dataset')"
   ]
  },
  {
   "cell_type": "markdown",
   "metadata": {},
   "source": [
    "#### Entities"
   ]
  },
  {
   "cell_type": "markdown",
   "metadata": {},
   "source": [
    "Lets look at the first attribute, `entities,` in the `Dataset` object. The `entities` attribute returns a list of `entity` objects."
   ]
  },
  {
   "cell_type": "code",
   "execution_count": 4,
   "metadata": {},
   "outputs": [
    {
     "name": "stdout",
     "output_type": "stream",
     "text": [
      "<Entity \"labs\">\n",
      "<Entity \"variants\">\n",
      "<Entity \"diagnoses\">\n",
      "<Entity \"pg_link2\">\n",
      "<Entity \"medications\">\n",
      "<Entity \"patients\">\n"
     ]
    }
   ],
   "source": [
    "entities = dataset.entities\n",
    "print(*entities, sep = \"\\n\") "
   ]
  },
  {
   "cell_type": "markdown",
   "metadata": {},
   "source": [
    "#### Edges"
   ]
  },
  {
   "cell_type": "markdown",
   "metadata": {},
   "source": [
    "The entities of a dataset map to each other and may map in a specific manner (i.e, \"one to one\" or \"one to many\")."
   ]
  },
  {
   "cell_type": "code",
   "execution_count": 5,
   "metadata": {},
   "outputs": [
    {
     "name": "stdout",
     "output_type": "stream",
     "text": [
      "* Edge: pheno_geno_sample_ids:p_sample -> pheno_sample_1:sample_id\n",
      "\tSource entity: pheno_geno_sample_ids\n",
      "\tDestination entity: phenotype\n",
      "\tRelationship from source to destination: one_to_many\n",
      "* Edge: genotype_alt_read_optimized:sample_id -> pheno_geno_sample_ids:g_sample\n",
      "\tSource entity: genotype\n",
      "\tDestination entity: pheno_geno_sample_ids\n",
      "\tRelationship from source to destination: one_to_many\n",
      "* Edge: allele_read_optimized:a_id -> genotype_alt_read_optimized:a_id\n",
      "\tSource entity: allele\n",
      "\tDestination entity: genotype\n",
      "\tRelationship from source to destination: one_to_many\n",
      "* Edge: annotation_read_optimized:a_id -> genotype_alt_read_optimized:a_id\n",
      "\tSource entity: annotation\n",
      "\tDestination entity: genotype\n",
      "\tRelationship from source to destination: one_to_many\n"
     ]
    }
   ],
   "source": [
    "# Graph edges connecting entities.\n",
    "for edge in dataset.edges[:4]:\n",
    "    #print(\"* Edge:{}-{}.{}.{}\".format(edge, edge.source_entity, edge.dest_entity, edge.relationship))\n",
    "    print(f\"* Edge: {edge}\")\n",
    "    print(f\"\\tSource entity: {edge.source_entity}\")\n",
    "    print(f\"\\tDestination entity: {edge.dest_entity}\")\n",
    "    print(f\"\\tRelationship from source to destination: {edge.relationship}\")"
   ]
  },
  {
   "cell_type": "markdown",
   "metadata": {},
   "source": [
    "#### Primary Entity\n",
    "Name of the entry containing the global primary key."
   ]
  },
  {
   "cell_type": "code",
   "execution_count": 5,
   "metadata": {},
   "outputs": [
    {
     "data": {
      "text/plain": [
       "<Entity \"patients\">"
      ]
     },
     "execution_count": 5,
     "metadata": {},
     "output_type": "execute_result"
    }
   ],
   "source": [
    "# primary_entity (str): Name of the entry containing the global primary key.\n",
    "prim = dataset.primary_entity\n",
    "prim"
   ]
  },
  {
   "cell_type": "markdown",
   "metadata": {},
   "source": [
    "## Explore Entity Object"
   ]
  },
  {
   "cell_type": "markdown",
   "metadata": {},
   "source": [
    "To view details of these entity object's attributes which are `str` types can be displayed like:"
   ]
  },
  {
   "cell_type": "code",
   "execution_count": 19,
   "metadata": {},
   "outputs": [
    {
     "name": "stdout",
     "output_type": "stream",
     "text": [
      "Entity: labs\n",
      "    * Entity Title: Lab\n",
      "    * Entity Label Singular: Lab\n",
      "    * Entity Label Plural: Labs\n",
      "    * Entity Primary Key: lab_id\n",
      "Entity: variants\n",
      "    * Entity Title: Variant\n",
      "    * Entity Label Singular: Variant\n",
      "    * Entity Label Plural: Variants\n",
      "    * Entity Primary Key: None\n",
      "Entity: diagnoses\n",
      "    * Entity Title: Diagnosis\n",
      "    * Entity Label Singular: Diagnosis\n",
      "    * Entity Label Plural: Diagnoses\n",
      "    * Entity Primary Key: diagnosis_id\n",
      "Entity: pg_link2\n",
      "    * Entity Title: pg_link2\n",
      "    * Entity Label Singular: pg_link2\n",
      "    * Entity Label Plural: pg_link2\n",
      "    * Entity Primary Key: None\n",
      "Entity: medications\n",
      "    * Entity Title: Medication\n",
      "    * Entity Label Singular: Medication\n",
      "    * Entity Label Plural: Medications\n",
      "    * Entity Primary Key: medication_id\n",
      "Entity: patients\n",
      "    * Entity Title: Patient\n",
      "    * Entity Label Singular: Patient\n",
      "    * Entity Label Plural: Patients\n",
      "    * Entity Primary Key: patient_id\n"
     ]
    }
   ],
   "source": [
    "# entity = dataset.entities\n",
    "for entity in dataset.entities:\n",
    "    print(f'Entity: {entity.name}')\n",
    "    print(f'    * Entity Title: {entity.entity_title}')\n",
    "    print(f'    * Entity Label Singular: {entity.entity_label_singular}')\n",
    "    print(f'    * Entity Label Plural: {entity.entity_label_plural}')\n",
    "    print(f'    * Entity Primary Key: {entity.primary_key}')"
   ]
  },
  {
   "cell_type": "markdown",
   "metadata": {},
   "source": [
    "Since, `entity.fields` will return a list of `Fields` objects which have their own attributes, we'll have to use nested for loop to iterate over both entities list and fields list. With this, we're aiming to view the various fields that exist for each entity."
   ]
  },
  {
   "cell_type": "code",
   "execution_count": 37,
   "metadata": {},
   "outputs": [
    {
     "name": "stdout",
     "output_type": "stream",
     "text": [
      "Entity: labs\n",
      "     Field column name: o2_saturation\n",
      "     Field title: Oxygen Saturation\n",
      "\n",
      "\n",
      "     Field column name: alt\n",
      "     Field title: Alanine Transaminase (Alanine AminoTransferase)\n",
      "\n",
      "\n",
      "     Field column name: phosphate\n",
      "     Field title: Phosphate\n",
      "\n",
      "\n",
      "     Field column name: hgb\n",
      "     Field title: Hemoglobin\n",
      "\n",
      "\n",
      "     Field column name: heart_rate\n",
      "     Field title: Heart Rate\n",
      "\n",
      "\n",
      "     Field column name: bilirubin\n",
      "     Field title: Bilirubin, Total\n",
      "\n",
      "\n",
      "     Field column name: hct\n",
      "     Field title: Hematocrit\n",
      "\n",
      "\n",
      "     Field column name: magnesium\n",
      "     Field title: Magnesium\n",
      "\n",
      "\n",
      "     Field column name: lab_id\n",
      "     Field title: lab_id\n",
      "\n",
      "\n",
      "     Field column name: ast\n",
      "     Field title: Aspartate Transaminase (Aspartate AminoTransferase)\n",
      "\n",
      "\n",
      "     Field column name: temperature\n",
      "     Field title: Temperature\n",
      "\n",
      "\n",
      "     Field column name: potassium\n",
      "     Field title: Potassium\n",
      "\n",
      "\n",
      "     Field column name: lab_date\n",
      "     Field title: Lab Date\n",
      "\n",
      "\n",
      "     Field column name: patient_id\n",
      "     Field title: patient_id\n",
      "\n",
      "\n",
      "     Field column name: wbc\n",
      "     Field title: Leukocyte Count (White Blood Cells)\n",
      "\n",
      "\n",
      "----------\n",
      "Entity: variants\n",
      "     Field column name: variant\n",
      "     Field title: Variant\n",
      "\n",
      "\n",
      "     Field column name: evidence_type\n",
      "     Field title: Evidence Type\n",
      "\n",
      "\n",
      "     Field column name: variant_origin\n",
      "     Field title: Variant Origin\n",
      "\n",
      "\n",
      "     Field column name: variant_id\n",
      "     Field title: variant_id\n",
      "\n",
      "\n",
      "     Field column name: drugs\n",
      "     Field title: Drugs\n",
      "\n",
      "\n",
      "     Field column name: disease\n",
      "     Field title: Disease\n",
      "\n",
      "\n",
      "     Field column name: gene\n",
      "     Field title: Gene\n",
      "\n",
      "\n",
      "     Field column name: evidence_direction\n",
      "     Field title: Evidence Direction\n",
      "\n",
      "\n",
      "     Field column name: clinical_significance\n",
      "     Field title: Clinical Significance\n",
      "\n",
      "\n",
      "     Field column name: patient_id\n",
      "     Field title: patient_id\n",
      "\n",
      "\n",
      "     Field column name: evidence_level\n",
      "     Field title: Evidence Level\n",
      "\n",
      "\n",
      "----------\n",
      "Entity: diagnoses\n",
      "     Field column name: patient_id\n",
      "     Field title: patient_id\n",
      "\n",
      "\n",
      "     Field column name: diagnosis_id\n",
      "     Field title: diagnosis_id\n",
      "\n",
      "\n",
      "     Field column name: dx_date\n",
      "     Field title: Diagnosis Date\n",
      "\n",
      "\n",
      "     Field column name: dx_site_icd10\n",
      "     Field title: Diagnosis ICD-10 Code\n",
      "\n",
      "\n",
      "----------\n",
      "Entity: pg_link2\n",
      "     Field column name: p_sample\n",
      "     Field title: p_sample\n",
      "\n",
      "\n",
      "     Field column name: g_sample\n",
      "     Field title: g_sample\n",
      "\n",
      "\n",
      "----------\n",
      "Entity: medications\n",
      "     Field column name: med_start\n",
      "     Field title: Medication Start Date\n",
      "\n",
      "\n",
      "     Field column name: rxnorm_cui\n",
      "     Field title: RxNorm CUI (Concept Unique Identifier)\n",
      "\n",
      "\n",
      "     Field column name: med_stop\n",
      "     Field title: Medication Stop Date\n",
      "\n",
      "\n",
      "     Field column name: drug_id\n",
      "     Field title: Medication\n",
      "\n",
      "\n",
      "     Field column name: medication_id\n",
      "     Field title: medication_id\n",
      "\n",
      "\n",
      "     Field column name: drug_class_level\n",
      "     Field title: Drug Class Level 1\n",
      "\n",
      "\n",
      "     Field column name: patient_id\n",
      "     Field title: patient_id\n",
      "\n",
      "\n",
      "     Field column name: medication_stop_reason\n",
      "     Field title: Medication Stop Reason\n",
      "\n",
      "\n",
      "     Field column name: drug_class\n",
      "     Field title: Drug Class Level 2\n",
      "\n",
      "\n",
      "----------\n",
      "Entity: patients\n",
      "     Field column name: race\n",
      "     Field title: Race\n",
      "\n",
      "\n",
      "     Field column name: zip\n",
      "     Field title: Zip Code\n",
      "\n",
      "\n",
      "     Field column name: entry_date\n",
      "     Field title: Entry Date\n",
      "\n",
      "\n",
      "     Field column name: patient_id\n",
      "     Field title: patient_id\n",
      "\n",
      "\n",
      "     Field column name: gender\n",
      "     Field title: Gender\n",
      "\n",
      "\n",
      "     Field column name: dob\n",
      "     Field title: Date of Birth\n",
      "\n",
      "\n",
      "     Field column name: ethnicity\n",
      "     Field title: Ethnicity\n",
      "\n",
      "\n",
      "----------\n"
     ]
    }
   ],
   "source": [
    "# for entity in dataset.entities[:2]:\n",
    "#     for field in entity.fields[:6]:\n",
    "#         print(f' Entity: {entity.name} - Field: {field.name}')\n",
    "#     print('----------')\n",
    "\n",
    "n_entities = len(dataset.entities)\n",
    "for entity in dataset.entities[:n_entities]:\n",
    "    n_fields = len(entity.fields)\n",
    "    print(f'Entity: {entity.name}')\n",
    "    for field in entity.fields[:n_fields]:\n",
    "        print(f'     Field column name: {field.name}')\n",
    "        print(f'     Field title: {field.title}')\n",
    "        print('\\n')\n",
    "            \n",
    "    print('----------')"
   ]
  },
  {
   "cell_type": "markdown",
   "metadata": {},
   "source": [
    "### Class Function in `Entity`\n",
    "`dataset` object has 6 unique entities for this particular dataset. Each of those entities have names which can be displayed by `entity.name`, and titles which can be displayed by `entity.title`, as listed above. For calling a class function `find_field` on `entity` object, we have to pick one from the list of entities returned from `dataset.entities` or by name.\n",
    "\n",
    "This function returns `field` object and so we need to call field attributes to display its content."
   ]
  },
  {
   "cell_type": "code",
   "execution_count": 38,
   "metadata": {},
   "outputs": [
    {
     "name": "stdout",
     "output_type": "stream",
     "text": [
      "Field title: Bilirubin, Total, Field column name: bilirubin\n"
     ]
    }
   ],
   "source": [
    "# First, assign the entity. Labs was arbitararly chosen\n",
    "labs_entity = dataset[\"labs\"]\n",
    "\n",
    "# Find a field title, existing for the chosen entity and copied as it appears above\n",
    "bilirubin_field = labs_entity.find_field(\"bilirubin\")\n",
    "\n",
    "# Print information on the field title\n",
    "print(f\"Field title: {bilirubin_field.title}, Field column name: {bilirubin_field.column_name}\")"
   ]
  },
  {
   "cell_type": "markdown",
   "metadata": {},
   "source": [
    "## Explore Field Object"
   ]
  },
  {
   "cell_type": "markdown",
   "metadata": {},
   "source": [
    "Let's look at all attributes of the `field` object we just created `bilirubin_field`. This can be used to explore any field in more depth."
   ]
  },
  {
   "cell_type": "code",
   "execution_count": 41,
   "metadata": {},
   "outputs": [
    {
     "name": "stdout",
     "output_type": "stream",
     "text": [
      "Field name : bilirubin\n",
      "Field coding : None\n",
      "Field entity : <Entity \"labs\">\n",
      "Field title : Bilirubin, Total\n",
      "Field description : None\n",
      "Field units : mg/dL\n",
      "Field concept : None\n",
      "Field linkout : None\n",
      "Field folder_path : ['Labs', 'Liver functions']\n",
      "Field longitudinal_axis_type : None\n",
      "Field type : double\n",
      "Field is_multi_select : False\n",
      "Field is_sparse_coding : False\n",
      "Field table_name : labs\n",
      "Field column_name : bilirubin\n",
      "Field database_name : xds_clinical_demo_dataset\n",
      "Field database_id : database-G13pbx80bZgVPgj9Bzx4zfpP\n",
      "Field optimized_column : None\n",
      "Field primary_table_name : labs\n",
      "Field logical_table_name : phenotype\n"
     ]
    }
   ],
   "source": [
    "for attr, value in vars(bilirubin_field).items():\n",
    "    print(\"Field\", attr, \":\", value)"
   ]
  },
  {
   "cell_type": "markdown",
   "metadata": {},
   "source": [
    "## Extracting data from a dataset into a dataframe"
   ]
  },
  {
   "cell_type": "markdown",
   "metadata": {},
   "source": [
    "### Retrieve Fields"
   ]
  },
  {
   "cell_type": "markdown",
   "metadata": {},
   "source": [
    "The `retrieve_fields()` function can be added to any dataset or cohort object to extract data into a dataframe of your choosing.  The function natively returns a spark dataframe but can be cast to other common types: e.g. pandas (`.to_pandas()`) or koalas (`.to_koalas`)."
   ]
  },
  {
   "cell_type": "code",
   "execution_count": 49,
   "metadata": {},
   "outputs": [
    {
     "data": {
      "text/plain": [
       "[<Field \"o2_saturation\">, <Field \"alt\">, <Field \"phosphate\">]"
      ]
     },
     "execution_count": 49,
     "metadata": {},
     "output_type": "execute_result"
    }
   ],
   "source": [
    "labs_entity = dataset[\"labs\"]\n",
    "\n",
    "# First, start out with a list of fields that you want to export\n",
    "# Find by exact title\n",
    "field_O2sat = labs_entity.find_field(title=\"Oxygen Saturation\")\n",
    "field_alt = labs_entity.find_field(title=\"Alanine Transaminase (Alanine AminoTransferase)\")\n",
    "field_P = labs_entity.find_field(title=\"Phosphate\")\n",
    "\n",
    "field_list = [field_O2sat, field_alt, field_P]\n",
    "\n",
    "# Alternatively, this could be done by specifying the column name\n",
    "# field_O2sat = labs_entity.find_field(\"o2_saturation\")\n",
    "# field_alt = labs_entity.find_field(\"alt\")\n",
    "# field_P = labs_entity.find_field(\"phosphate\")\n",
    "\n",
    "# field_list = [field_O2sat, field_alt, field_P]\n",
    "\n",
    "field_list"
   ]
  },
  {
   "cell_type": "code",
   "execution_count": 51,
   "metadata": {},
   "outputs": [
    {
     "data": {
      "text/html": [
       "<div>\n",
       "<style scoped>\n",
       "    .dataframe tbody tr th:only-of-type {\n",
       "        vertical-align: middle;\n",
       "    }\n",
       "\n",
       "    .dataframe tbody tr th {\n",
       "        vertical-align: top;\n",
       "    }\n",
       "\n",
       "    .dataframe thead th {\n",
       "        text-align: right;\n",
       "    }\n",
       "</style>\n",
       "<table border=\"1\" class=\"dataframe\">\n",
       "  <thead>\n",
       "    <tr style=\"text-align: right;\">\n",
       "      <th></th>\n",
       "      <th>o2_saturation</th>\n",
       "      <th>alt</th>\n",
       "      <th>phosphate</th>\n",
       "      <th>lab_id</th>\n",
       "    </tr>\n",
       "  </thead>\n",
       "  <tbody>\n",
       "    <tr>\n",
       "      <th>0</th>\n",
       "      <td>0.0</td>\n",
       "      <td>0.0</td>\n",
       "      <td>0.0</td>\n",
       "      <td>188</td>\n",
       "    </tr>\n",
       "    <tr>\n",
       "      <th>1</th>\n",
       "      <td>0.0</td>\n",
       "      <td>0.0</td>\n",
       "      <td>0.0</td>\n",
       "      <td>179</td>\n",
       "    </tr>\n",
       "    <tr>\n",
       "      <th>2</th>\n",
       "      <td>100.0</td>\n",
       "      <td>0.0</td>\n",
       "      <td>0.0</td>\n",
       "      <td>52</td>\n",
       "    </tr>\n",
       "    <tr>\n",
       "      <th>3</th>\n",
       "      <td>99.0</td>\n",
       "      <td>0.0</td>\n",
       "      <td>0.0</td>\n",
       "      <td>137</td>\n",
       "    </tr>\n",
       "    <tr>\n",
       "      <th>4</th>\n",
       "      <td>100.0</td>\n",
       "      <td>0.0</td>\n",
       "      <td>0.0</td>\n",
       "      <td>139</td>\n",
       "    </tr>\n",
       "  </tbody>\n",
       "</table>\n",
       "</div>"
      ],
      "text/plain": [
       "   o2_saturation  alt  phosphate  lab_id\n",
       "0            0.0  0.0        0.0     188\n",
       "1            0.0  0.0        0.0     179\n",
       "2          100.0  0.0        0.0      52\n",
       "3           99.0  0.0        0.0     137\n",
       "4          100.0  0.0        0.0     139"
      ]
     },
     "execution_count": 51,
     "metadata": {},
     "output_type": "execute_result"
    }
   ],
   "source": [
    "# Extract data, decode any codings, and cast to a koalas dataframe\n",
    "labs_data = labs_entity.retrieve_fields(engine=engine, fields=field_list, coding_values=\"replace\").to_koalas()\n",
    "\n",
    "# See first five entries\n",
    "labs_data.head()"
   ]
  },
  {
   "cell_type": "code",
   "execution_count": null,
   "metadata": {},
   "outputs": [],
   "source": []
  }
 ],
 "metadata": {
  "kernelspec": {
   "display_name": "Python 3",
   "language": "python",
   "name": "python3"
  },
  "language_info": {
   "codemirror_mode": {
    "name": "ipython",
    "version": 3
   },
   "file_extension": ".py",
   "mimetype": "text/x-python",
   "name": "python",
   "nbconvert_exporter": "python",
   "pygments_lexer": "ipython3",
   "version": "3.6.5"
  }
 },
 "nbformat": 4,
 "nbformat_minor": 4
}
