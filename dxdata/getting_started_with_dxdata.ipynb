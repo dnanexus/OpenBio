{
 "cells": [
  {
   "cell_type": "markdown",
   "metadata": {},
   "source": [
    "# Working with dxdata \n",
    "#### Datasets and Cohorts"
   ]
  },
  {
   "cell_type": "markdown",
   "metadata": {},
   "source": [
    "`dxdata` is a python module developed and maintained by DNAnexus. The module contains functionality to access and describe data within Apollo by leveraging Dataset and Cohort objects. A Dataset object contains content that describes logical content in data and maps the logical data organization to the physical location of data stored in a database. It allows assign _something_ a \"Sample ID,\" a term with specific attributes, and easily store, retrieve, and use that term in a consistent manner. Below, we walk through highlights of `dxdata` specifically around initiating a spark cluster, pulling a datasets/cohort, exploring the data, and retrieving data to a dataframe.\n",
    "\n",
    "This notebook is delivered \"As-Is\". Notwithstanding anthing to the contrary, [DNAnexus] will have no warranty, support  or other obligations with respect to [Materials] provided hereunder."
   ]
  },
  {
   "cell_type": "markdown",
   "metadata": {},
   "source": [
    "### Import dxdata and initiate Spark cluster"
   ]
  },
  {
   "cell_type": "code",
   "execution_count": null,
   "metadata": {},
   "outputs": [],
   "source": [
    "import dxdata\n",
    "import databricks.koalas as ks"
   ]
  },
  {
   "cell_type": "code",
   "execution_count": null,
   "metadata": {},
   "outputs": [],
   "source": [
    "# Connect to Spark\n",
    "engine = dxdata.connect(dialect=\"hive+pyspark\")"
   ]
  },
  {
   "cell_type": "markdown",
   "metadata": {},
   "source": [
    "### dxdata.dataset"
   ]
  },
  {
   "cell_type": "markdown",
   "metadata": {},
   "source": [
    "`dxdata` contains the following classes and respective attributes within the `dataset` sub-module. Items in **bold** are attributes that are commonly used in the provided JupyterLab Notebooks that leverage `dxdata`.\n",
    "\n",
    "- Datasets\n",
    "    - **_entities_** (list of Entity): Entities in the dataset.\n",
    "    - _edges_ (list of Edge): Graph edges connecting entities.\n",
    "    - _folders_ (list of dict/string): Folder hierarchy to organize fields in the UI.\n",
    "    - _primary_entity_ (str): Name of the entry containing the global primary key.\n",
    "    - _dashboards_ (dict or None): Mapping of dashboard names to dxlinks\n",
    "    - **_pheno_geno_link_info_** (dict or None): Identifiers for the subject-assay linking table.\n",
    "\n",
    "\n",
    "- Entity\n",
    "    - **_name_** (str): Logical name for the entity. From the data dictionary column \"entity\".\n",
    "    - **_fields_** (list of Field): Fields associated with this entity.\n",
    "    - **_database_name_** (str): Name of the database containing this entity's data.\n",
    "    - _database_id_ (str): Platform ID of the data object, e.g. \"database-xxxx\".\n",
    "    - _primary_key_ (str): Name of the field to use as the primary key for database operations. Derived from the data dictionary column \"primary_key_type\".\n",
    "    - _longitudinal_axis_ (str): Name of the field to use as the default longitudinal axis for analysis. Derived from the data dictionary column \"is_longitudinal_axis\".\n",
    "\n",
    "\n",
    "- Field - Represents all other DataDictionary columns not covered by Entity and Edge \n",
    "    - **_name_** (str): Field's internal name.\n",
    "    - _type_ (str): Primitive type name, e.g. \"integer\", \"string\", \"date\" ...\n",
    "    - **_table_name_** (str): Database table where this field's data values are stored.\n",
    "    - **_column_name_** (str): Database column where field values are stored.\n",
    "    - **_coding_** (Coding): Coding instance that applies to this field's values.\n",
    "    - _is_multi_select_ (bool): Whether the field can contain multiple values per cell (array/set type)\n",
    "    - _is_sparse_coding_ (bool): Whether all data values should be covered by codings.\n",
    "    - **_title_** (str): Optional.\n",
    "    - _description_ (str): Optional.\n",
    "    - _units_ (str): Optional.\n",
    "    - _concept_ (str): Optional.\n",
    "    - _linkout_ (str): Optional.\n",
    "    - ** kwargs (dict of strings): Arbitrary additional attributes with string values.\n",
    "\n",
    "\n",
    "- Edge - Represents DataDictionary columns: referenced_entity_field, relationship. Determines join_info. All joins are left joins.\n",
    "    - _source_entity_ (str): Existing entity name\n",
    "    - _source_field_ (str): Name of existing field in `source_entity`\n",
    "    - _dest_entity_ (str): Existing entity name\n",
    "    - _dest_field_ (str): Name of existing field in `dest_entity`\n",
    "    - _relationship_ (str): \"one_to_one\" or \"many_to_one\"\n",
    "\n",
    "\n",
    "- Coding - Capture meanings and hierarchy for categorical values.\n",
    "    - _name_ (str): Name for the coding. (May be applied to multiple fields.)\n",
    "    - **_codes_** (dict): Corresponds to 'encoding' element in descriptor JSON.\n",
    "    - _hierarchy_ (list): Corresponds to 'hierarchy' element in descriptor JSON."
   ]
  },
  {
   "cell_type": "markdown",
   "metadata": {},
   "source": [
    "### Global functions in `dxdata` for loading data:\n",
    "- _load_cohort_ : Read the contents of a cohort record on the platform.\n",
    "- _load_dataset_ : Read the contents of a Dataset record on the platform.\n",
    "   "
   ]
  },
  {
   "cell_type": "markdown",
   "metadata": {},
   "source": [
    "### A Dataset contains defined attributes, such as entities\n",
    "#### Let's load a dataset to examine all attributes"
   ]
  },
  {
   "cell_type": "code",
   "execution_count": null,
   "metadata": {},
   "outputs": [],
   "source": [
    "# load with record ID\n",
    "dataset = dxdata.load_dataset(id='record-G3814k006Fjgk5J74Kx3X1QG')\n",
    "\n",
    "# OR with path to the dataset\n",
    "# dataset = dxdata.load_dataset(''/Datasets/Demo Dataset')"
   ]
  },
  {
   "cell_type": "markdown",
   "metadata": {},
   "source": [
    "#### Entities"
   ]
  },
  {
   "cell_type": "markdown",
   "metadata": {},
   "source": [
    "Lets look at the first attribute, `entities,` in the `Dataset` object. The `entities` attribute returns a list of `entity` objects."
   ]
  },
  {
   "cell_type": "code",
   "execution_count": null,
   "metadata": {},
   "outputs": [],
   "source": [
    "entities = dataset.entities\n",
    "print(*entities, sep = \"\\n\") "
   ]
  },
  {
   "cell_type": "markdown",
   "metadata": {},
   "source": [
    "#### Edges"
   ]
  },
  {
   "cell_type": "markdown",
   "metadata": {},
   "source": [
    "The entities of a dataset map to each other and may map in a specific manner (i.e, \"one to one\" or \"one to many\")."
   ]
  },
  {
   "cell_type": "code",
   "execution_count": null,
   "metadata": {},
   "outputs": [],
   "source": [
    "# Graph edges connecting entities.\n",
    "for edge in dataset.edges[:4]:\n",
    "    #print(\"* Edge:{}-{}.{}.{}\".format(edge, edge.source_entity, edge.dest_entity, edge.relationship))\n",
    "    print(f\"* Edge: {edge}\")\n",
    "    print(f\"\\tSource entity: {edge.source_entity}\")\n",
    "    print(f\"\\tDestination entity: {edge.dest_entity}\")\n",
    "    print(f\"\\tRelationship from source to destination: {edge.relationship}\")"
   ]
  },
  {
   "cell_type": "markdown",
   "metadata": {},
   "source": [
    "#### Primary Entity\n",
    "Name of the entry containing the global primary key."
   ]
  },
  {
   "cell_type": "code",
   "execution_count": null,
   "metadata": {},
   "outputs": [],
   "source": [
    "# primary_entity (str): Name of the entry containing the global primary key.\n",
    "prim = dataset.primary_entity\n",
    "prim"
   ]
  },
  {
   "cell_type": "markdown",
   "metadata": {},
   "source": [
    "## Explore Entity Object"
   ]
  },
  {
   "cell_type": "markdown",
   "metadata": {},
   "source": [
    "To view details of these entity object's attributes which are `str` types can be displayed like:"
   ]
  },
  {
   "cell_type": "code",
   "execution_count": null,
   "metadata": {},
   "outputs": [],
   "source": [
    "entity = dataset.entities\n",
    "for entity in dataset.entities:\n",
    "    print(f'Entity: {entity.name}')\n",
    "    print(f'    * Entity Title: {entity.entity_title}')\n",
    "    print(f'    * Entity Label Singular: {entity.entity_label_singular}')\n",
    "    print(f'    * Entity Label Plural: {entity.entity_label_plural}')\n",
    "    print(f'    * Entity Primary Key: {entity.primary_key}')"
   ]
  },
  {
   "cell_type": "markdown",
   "metadata": {},
   "source": [
    "Since, `entity.fields` will return a list of `Fields` objects which have their own attributes, we'll have to use nested for loop to iterate over both entities list and fields list."
   ]
  },
  {
   "cell_type": "code",
   "execution_count": null,
   "metadata": {},
   "outputs": [],
   "source": [
    "n_entities = len(dataset.entities)\n",
    "for entity in dataset.entities[:n_entities]:\n",
    "    n_fields = len(entity.fields)\n",
    "    print(f'Entity: {entity.name}')\n",
    "    for field in entity.fields[:n_fields]:\n",
    "        print(f'     Field column name: {field.name}')\n",
    "        print(f'     Field title: {field.title}')\n",
    "        print('\\n')\n",
    "            \n",
    "    print('----------')"
   ]
  },
  {
   "cell_type": "markdown",
   "metadata": {},
   "source": [
    "### Class Function in `Entity`\n",
    "`dataset` object has 5 entities and each of those entities have names which can be displayed by `entity.name`. For calling a class function `find_field` on `entity` object, we have to pick one from the list of entities returned from `dataset.entities` or by name.\n",
    "\n",
    "This function returns `field` object and so we need to call field attributes to display its content."
   ]
  },
  {
   "cell_type": "code",
   "execution_count": null,
   "metadata": {},
   "outputs": [],
   "source": [
    "# First, assign the entity\n",
    "pheno = dataset[\"phenotype\"]\n",
    "\n",
    "# Find a field title\n",
    "bmi_field = pheno.find_field(title=\"Body mass index (BMI) | Instance 1\")\n",
    "\n",
    "# Print information on the field title\n",
    "print(f\"Field title: {bmi_field.title}, Field column name: {bmi_field.column_name}\")"
   ]
  },
  {
   "cell_type": "markdown",
   "metadata": {},
   "source": [
    "## Explore Field Object"
   ]
  },
  {
   "cell_type": "markdown",
   "metadata": {},
   "source": [
    "Let's look at all attributes of the `field` object we just created `bmi_field` "
   ]
  },
  {
   "cell_type": "code",
   "execution_count": null,
   "metadata": {},
   "outputs": [],
   "source": [
    "for attr, value in vars(bmi_field).items():\n",
    "    print(\"Field\", attr, \":\", value)"
   ]
  },
  {
   "cell_type": "markdown",
   "metadata": {},
   "source": [
    "## Extracting data from a dataset into a dataframe"
   ]
  },
  {
   "cell_type": "markdown",
   "metadata": {},
   "source": [
    "### Retrieve Fields"
   ]
  },
  {
   "cell_type": "markdown",
   "metadata": {},
   "source": [
    "The `retrieve_fields()` function can be added to any dataset or cohort object to extract data into a dataframe of your choosing.  The function natively returns a spark dataframe but can be cast to other common types: e.g. pandas (`.to_pandas()`) or koalas (`.to_koalas`)."
   ]
  },
  {
   "cell_type": "code",
   "execution_count": null,
   "metadata": {},
   "outputs": [],
   "source": [
    "# First, start out with a list of fields that you want to export\n",
    "# Find by exact title\n",
    "field_sex = pheno.find_field(title=\"Sex\")\n",
    "field_age = pheno.find_field(title=\"Age at recruitment\")\n",
    "field_smoke = pheno.find_field(title=\"Ever smoked | Instance 0\")\n",
    "\n",
    "field_list = [field_sex, field_smoke, field_age] + bmi_field"
   ]
  },
  {
   "cell_type": "code",
   "execution_count": null,
   "metadata": {},
   "outputs": [],
   "source": [
    "# Extract data, decode any codings, and cast to a koalas dataframe\n",
    "pheno_data = pheno.retrieve_fields(engine=engine, fields=field_list, coding_values=\"replace\").to_koalas()\n",
    "\n",
    "# See first five entries\n",
    "pheno_data.head()"
   ]
  },
  {
   "cell_type": "code",
   "execution_count": null,
   "metadata": {},
   "outputs": [],
   "source": []
  }
 ],
 "metadata": {
  "kernelspec": {
   "display_name": "Python 3",
   "language": "python",
   "name": "python3"
  },
  "language_info": {
   "codemirror_mode": {
    "name": "ipython",
    "version": 3
   },
   "file_extension": ".py",
   "mimetype": "text/x-python",
   "name": "python",
   "nbconvert_exporter": "python",
   "pygments_lexer": "ipython3",
   "version": "3.7.7"
  }
 },
 "nbformat": 4,
 "nbformat_minor": 4
}
