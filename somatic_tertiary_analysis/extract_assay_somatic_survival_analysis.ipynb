{
 "cells": [
  {
   "cell_type": "markdown",
   "id": "7f4b9703-d68e-440f-8731-4e2507867ab3",
   "metadata": {},
   "source": [
    "# Somatic Variant Survival Analysis Using `dx extract_assay somatic`\n",
    "<hr/>\n",
    "***As-Is Software Disclaimer***\n",
    "\n",
    "This content in this repository is delivered “As-Is”. Notwithstanding anything to the contrary, DNAnexus will have no warranty, support, liability or other obligations with respect to Materials provided hereunder.\n",
    "\n",
    "<hr/>\n",
    "\n",
    "This notebook demonstrates usage of the `dx` command `extract_assay somatic` perform Kaplan-Meier analysis using a somatic variant dataset.\n",
    "\n",
    "<a href=\"https://github.com/dnanexus/OpenBio/blob/master/LICENSE.md\">MIT License</a> applies to this notebook."
   ]
  },
  {
   "cell_type": "markdown",
   "id": "9b441778-4eed-435e-ae87-84373be38ab0",
   "metadata": {},
   "source": [
    "## Preparing your environment\n",
    "### Launch spec:\n",
    "\n",
    "* App name: JupyterLab with Python, R, Stata, ML\n",
    "* Kernel: Python\n",
    "* Instance type: mem1_ssd1_v2_x2\n",
    "* Cost: < $0.1\n",
    "* Runtime: =~ 2 min\n",
    "* Data description: Input for this notebook is a v3.0 Dataset or Cohort object ID. The example dataset used in this notebook has 10 patients and around 3.5K variants."
   ]
  },
  {
   "cell_type": "markdown",
   "id": "337249de-2e5f-42ef-aa95-9bd1ea7ed751",
   "metadata": {},
   "source": [
    "### Setup dxpy to retrieve somatic variants"
   ]
  },
  {
   "cell_type": "markdown",
   "id": "25af95b9",
   "metadata": {},
   "source": [
    "This notebook requires dxpy >= v0.352.0. You can check your version"
   ]
  },
  {
   "cell_type": "code",
   "execution_count": null,
   "id": "9716897a",
   "metadata": {},
   "outputs": [],
   "source": [
    "%%bash\n",
    "dx --version"
   ]
  },
  {
   "cell_type": "markdown",
   "id": "adffc879",
   "metadata": {},
   "source": [
    "and if necessary upgrade from a repository"
   ]
  },
  {
   "cell_type": "code",
   "execution_count": null,
   "id": "4ad0b8b0",
   "metadata": {},
   "outputs": [],
   "source": [
    "%%bash\n",
    "#pip install -U dxpy"
   ]
  },
  {
   "cell_type": "markdown",
   "id": "ed8a28a3",
   "metadata": {},
   "source": [
    "or a file"
   ]
  },
  {
   "cell_type": "code",
   "execution_count": null,
   "id": "07c22076-613d-4c95-b36e-c92f811bd3c1",
   "metadata": {},
   "outputs": [],
   "source": [
    "%%bash\n",
    "#pip install dxpy-0.352.0-py2.py3-none-any.whl"
   ]
  },
  {
   "cell_type": "markdown",
   "id": "89e31e0e",
   "metadata": {},
   "source": [
    "`dx extract_assay somatic` is the command to retrieve somatic variants from a datasets. Available options can be examined with the `--help` flag."
   ]
  },
  {
   "cell_type": "code",
   "execution_count": null,
   "id": "edab1d1a-2cbc-4ef0-b66f-e920d48660b4",
   "metadata": {},
   "outputs": [],
   "source": [
    "%%bash\n",
    "dx extract_assay somatic --help"
   ]
  },
  {
   "cell_type": "markdown",
   "id": "59f0d609-51c4-4ae5-aba9-b1f9386b93cd",
   "metadata": {},
   "source": [
    "### Select the dataset"
   ]
  },
  {
   "cell_type": "markdown",
   "id": "5ed3ac02",
   "metadata": {},
   "source": [
    "Choose a dataset with a somatic variant assay using the `project-id:record-id` identifier."
   ]
  },
  {
   "cell_type": "code",
   "execution_count": null,
   "id": "5d89b63b-fbf2-4839-bc3e-c51cffbad7d0",
   "metadata": {},
   "outputs": [],
   "source": [
    "%env dataset project-GX0Jpp00ZJ46qYPq5G240k1k:record-GXjb4Pj01KjxKYKJvvY50PqZ"
   ]
  },
  {
   "cell_type": "markdown",
   "id": "e8fee22c-cecf-44d1-bf0f-1eb6793d95ea",
   "metadata": {},
   "source": [
    "## Extract data and sample identifiers"
   ]
  },
  {
   "cell_type": "markdown",
   "id": "19289693-74d9-4c28-ac4e-9d664d7f93d2",
   "metadata": {},
   "source": [
    "### Retrieve somatic variant data from the dataset \n",
    "\n",
    "Download somatic variants of genes TP53 and PIK3CA to a TSV file of by filtering variants with the `--retrieve-variant` option. See the description and JSON template for filtering somatic variants by using the `--json-help` flag for further information. Pass `sample_id` to the argument `--additional-fields` to get the sample identifiers to merge with phenotypes."
   ]
  },
  {
   "cell_type": "code",
   "execution_count": null,
   "id": "942878bf",
   "metadata": {},
   "outputs": [],
   "source": [
    "%%bash\n",
    "\n",
    "dx extract_assay somatic ${dataset} \\\n",
    "--retrieve-variant '{\n",
    "  \"annotation\": {\n",
    "    \"symbol\": [\"PIK3CA\", \"TP53\"]\n",
    "  }\n",
    "}' \\\n",
    "--additional-fields sample_id,CLIN_SIG \\\n",
    "-o somatic_variants.tsv\n",
    "\n",
    "cat somatic_variants.tsv"
   ]
  },
  {
   "cell_type": "markdown",
   "id": "dd4b41fe",
   "metadata": {},
   "source": [
    "### Retrieve phenotype data from the dataset"
   ]
  },
  {
   "cell_type": "markdown",
   "id": "b67e6a12",
   "metadata": {},
   "source": [
    "Download the phenotype data linked to somatic variant samples using `extract_dataset`. See [this notebook](https://github.com/dnanexus/OpenBio/blob/master/dx-toolkit/dx_extract_dataset_bash.ipynb) on `extract_dataset` for more details. The `last_contact_days_to`, `death_days_to`, and `vital_status` fields have been selected for the survival analysis."
   ]
  },
  {
   "cell_type": "code",
   "execution_count": null,
   "id": "4f455e9b",
   "metadata": {},
   "outputs": [],
   "source": [
    "%%bash\n",
    "\n",
    "dx extract_dataset ${dataset} \\\n",
    "--fields sample.sample_id,patient.last_contact_days_to,patient.death_days_to,patient.vital_status \\\n",
    "-o sample_phenotypes.tsv\n",
    "\n",
    "cat sample_phenotypes.tsv"
   ]
  },
  {
   "cell_type": "markdown",
   "id": "15b4030a",
   "metadata": {},
   "source": [
    "`last_contact_days_to` is included to show an example of real values in the phenotypic data, but will not be included in the survival analysis. `death_days_to` and `vital_status` are uniform. These values will be manipulated later for the purpose of providing an example survival analysis."
   ]
  },
  {
   "cell_type": "markdown",
   "id": "49b9e4e0",
   "metadata": {},
   "source": [
    "### Derive features from somatic variants and merge with phenotypic data\n",
    "\n",
    "Use pandas in Python to aggregate somatic variant features and then merge with the phenotypic data to use as the basis for the survival analysis."
   ]
  },
  {
   "cell_type": "code",
   "execution_count": null,
   "id": "c4a324b2",
   "metadata": {},
   "outputs": [],
   "source": [
    "import pandas as pd"
   ]
  },
  {
   "cell_type": "markdown",
   "id": "9d15ee89",
   "metadata": {},
   "source": [
    "Load the somatic variant TSV file into a pandas DataFrame."
   ]
  },
  {
   "cell_type": "code",
   "execution_count": null,
   "id": "5828fbbd",
   "metadata": {},
   "outputs": [],
   "source": [
    "somatic_variants_df = pd.read_csv(\"somatic_variants.tsv\", sep=\"\\t\")\n",
    "somatic_variants_df"
   ]
  },
  {
   "cell_type": "markdown",
   "id": "e73cf349",
   "metadata": {},
   "source": [
    "Load the sample-linked phenotype data TSV file into a pandas DataFrame."
   ]
  },
  {
   "cell_type": "code",
   "execution_count": null,
   "id": "73d28f32",
   "metadata": {},
   "outputs": [],
   "source": [
    "sample_phenotypes_df = pd.read_csv(\"sample_phenotypes.tsv\")\n",
    "sample_phenotypes_df"
   ]
  },
  {
   "cell_type": "markdown",
   "id": "101bb32a",
   "metadata": {},
   "source": [
    "Aggregate somatic variants to the sample level with a flag for if the sample contains a variant with \"pathogenic\" in the `CLIN_SIG` field."
   ]
  },
  {
   "cell_type": "code",
   "execution_count": null,
   "id": "640f9019",
   "metadata": {},
   "outputs": [],
   "source": [
    "somatic_variants_df['pathogenic'] = somatic_variants_df[\"CLIN_SIG\"].str.contains(\"[\\\",]pathogenic[\\\",]\")\n",
    "pathogenic_variants_df = somatic_variants_df[['sample_id', 'pathogenic']].groupby('sample_id')\n",
    "pathogenic_variants_df = pathogenic_variants_df.any('pathogenic')\n",
    "pathogenic_variants_df = pathogenic_variants_df.reset_index()\n",
    "pathogenic_variants_df"
   ]
  },
  {
   "cell_type": "markdown",
   "id": "3cb8a3f7",
   "metadata": {},
   "source": [
    "Merge the aggregated somatic variant data with the phenotype data using `sample_id`. Some samples in the phenotypic data might not have any variants for the filter selected. Set the `pathogenic` flag to `False` for samples with missing values."
   ]
  },
  {
   "cell_type": "code",
   "execution_count": null,
   "id": "5e9a9755",
   "metadata": {},
   "outputs": [],
   "source": [
    "pathogenic_variant_phenotypes_df = sample_phenotypes_df.merge(pathogenic_variants_df,\n",
    "                                                           how='left',\n",
    "                                                           left_on='sample.sample_id',\n",
    "                                                           right_on='sample_id')\n",
    "pathogenic_variant_phenotypes_df['pathogenic'] = pathogenic_variant_phenotypes_df['pathogenic'].fillna(False)\n",
    "pathogenic_variant_phenotypes_df"
   ]
  },
  {
   "cell_type": "markdown",
   "id": "0a5e523e",
   "metadata": {},
   "source": [
    "Fill in the `vital_status` and `death_days_to` with artifical values for a more interesing example survival analysis."
   ]
  },
  {
   "cell_type": "code",
   "execution_count": null,
   "id": "9a100fd3",
   "metadata": {},
   "outputs": [],
   "source": [
    "pathogenic = pathogenic_variant_phenotypes_df['pathogenic']\n",
    "\n",
    "pathogenic_variant_phenotypes_df.loc[pathogenic, 'patient.vital_status'] = 'Dead'\n",
    "pathogenic_variant_phenotypes_df.loc[pathogenic, 'patient.death_days_to'] = [100, 350, 550]\n",
    "\n",
    "pathogenic_variant_phenotypes_df.loc[~pathogenic, 'patient.vital_status'] = \\\n",
    "    ['Dead', 'Dead', 'Alive', 'Alive', 'Alive', 'Alive', 'Alive']\n",
    "pathogenic_variant_phenotypes_df.loc[~pathogenic, 'patient.death_days_to'] = \\\n",
    "    [240, 600, 800, 900, 1000, 1005, 1010]"
   ]
  },
  {
   "cell_type": "markdown",
   "id": "ae14c906",
   "metadata": {},
   "source": [
    "### Perform the survival analysis and visualization\n",
    "\n",
    "The [lifelines](https://lifelines.readthedocs.io/) Python package performs survival analysis and visualization. Uncomment and run the line to install."
   ]
  },
  {
   "cell_type": "code",
   "execution_count": null,
   "id": "cc768c77",
   "metadata": {},
   "outputs": [],
   "source": [
    "#pip install lifelines"
   ]
  },
  {
   "cell_type": "markdown",
   "id": "6e35ee3d",
   "metadata": {},
   "source": [
    "Variable `T` is the durations of `death_days_to` and variable `E` is whether `vital_status` is \"Dead\". Kaplan-Meier fits are performed with `T` and `E` for the sets of patients with and without pathogenic variants and plotted together."
   ]
  },
  {
   "cell_type": "code",
   "execution_count": null,
   "id": "823847e1",
   "metadata": {},
   "outputs": [],
   "source": [
    "from lifelines import KaplanMeierFitter\n",
    "\n",
    "kmf = KaplanMeierFitter()\n",
    "\n",
    "T = pathogenic_variant_phenotypes_df['patient.death_days_to']\n",
    "E = pathogenic_variant_phenotypes_df['patient.vital_status'] == 'Dead'\n",
    "pathogenic = pathogenic_variant_phenotypes_df['pathogenic']\n",
    "\n",
    "kmf.fit(T[~pathogenic], E[~pathogenic], label='no pathogenic variants')\n",
    "ax = kmf.plot_survival_function()\n",
    "\n",
    "kmf.fit(T[pathogenic], E[pathogenic], label='pathogenic variants')\n",
    "ax = kmf.plot_survival_function(ax=ax)"
   ]
  }
 ],
 "metadata": {
  "kernelspec": {
   "display_name": "Python 3 (ipykernel)",
   "language": "python",
   "name": "python3"
  },
  "language_info": {
   "codemirror_mode": {
    "name": "ipython",
    "version": 3
   },
   "file_extension": ".py",
   "mimetype": "text/x-python",
   "name": "python",
   "nbconvert_exporter": "python",
   "pygments_lexer": "ipython3",
   "version": "3.11.4"
  }
 },
 "nbformat": 4,
 "nbformat_minor": 5
}
