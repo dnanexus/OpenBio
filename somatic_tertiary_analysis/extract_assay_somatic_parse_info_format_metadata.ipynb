{
 "cells": [
  {
   "cell_type": "markdown",
   "id": "7f4b9703-d68e-440f-8731-4e2507867ab3",
   "metadata": {},
   "source": [
    "#  Using Somatic Variant Meta Information from `dx extract_assay somatic`\n",
    "<hr/>\n",
    "***As-Is Software Disclaimer***\n",
    "\n",
    "This content in this repository is delivered “As-Is”. Notwithstanding anything to the contrary, DNAnexus will have no warranty, support, liability or other obligations with respect to Materials provided hereunder.\n",
    "\n",
    "<hr/>\n",
    "\n",
    "This notebook demonstrates usage of the `dx` command `extract_assay somatic` to filter somatic variants by INFO and FORMAT fields using VCF meta information and allele specific values.\n",
    "\n",
    "<a href=\"https://github.com/dnanexus/OpenBio/blob/master/LICENSE.md\">MIT License</a> applies to this notebook."
   ]
  },
  {
   "cell_type": "markdown",
   "id": "9b441778-4eed-435e-ae87-84373be38ab0",
   "metadata": {},
   "source": [
    "## Preparing your environment\n",
    "### Launch spec:\n",
    "\n",
    "* App name: JupyterLab with Python, R, Stata, ML\n",
    "* Kernel: Python\n",
    "* Instance type: mem1_ssd1_v2_x2\n",
    "* Cost: < $0.1\n",
    "* Runtime: =~ 2 min\n",
    "* Data description: Input for this notebook is a v3.0 Dataset or Cohort object ID. The example dataset used in this notebook has 10 patients and around 3.5K variants."
   ]
  },
  {
   "cell_type": "markdown",
   "id": "337249de-2e5f-42ef-aa95-9bd1ea7ed751",
   "metadata": {},
   "source": [
    "### Setup dxpy to retrieve somatic variants"
   ]
  },
  {
   "cell_type": "markdown",
   "id": "25af95b9",
   "metadata": {},
   "source": [
    "This notebook requires dxpy >= v0.352.0. You can check your version"
   ]
  },
  {
   "cell_type": "code",
   "execution_count": null,
   "id": "9716897a",
   "metadata": {},
   "outputs": [],
   "source": [
    "%%bash\n",
    "dx --version"
   ]
  },
  {
   "cell_type": "markdown",
   "id": "adffc879",
   "metadata": {},
   "source": [
    "and if necessary upgrade from a repository"
   ]
  },
  {
   "cell_type": "code",
   "execution_count": null,
   "id": "4ad0b8b0",
   "metadata": {},
   "outputs": [],
   "source": [
    "%%bash\n",
    "#pip install -U dxpy"
   ]
  },
  {
   "cell_type": "markdown",
   "id": "ed8a28a3",
   "metadata": {},
   "source": [
    "or a file"
   ]
  },
  {
   "cell_type": "code",
   "execution_count": null,
   "id": "07c22076-613d-4c95-b36e-c92f811bd3c1",
   "metadata": {},
   "outputs": [],
   "source": [
    "%%bash\n",
    "#pip install dxpy-0.352.0-py2.py3-none-any.whl"
   ]
  },
  {
   "cell_type": "markdown",
   "id": "89e31e0e",
   "metadata": {},
   "source": [
    "`dx extract_assay somatic` is the command to retrieve somatic variants from a datasets. Available options can be examined with the `--help` flag."
   ]
  },
  {
   "cell_type": "code",
   "execution_count": null,
   "id": "edab1d1a-2cbc-4ef0-b66f-e920d48660b4",
   "metadata": {},
   "outputs": [],
   "source": [
    "%%bash\n",
    "dx extract_assay somatic --help"
   ]
  },
  {
   "cell_type": "markdown",
   "id": "59f0d609-51c4-4ae5-aba9-b1f9386b93cd",
   "metadata": {},
   "source": [
    "### Select the dataset"
   ]
  },
  {
   "cell_type": "markdown",
   "id": "5ed3ac02",
   "metadata": {},
   "source": [
    "Choose a dataset with a somatic variant assay using the `project-id:record-id` identifier."
   ]
  },
  {
   "cell_type": "code",
   "execution_count": null,
   "id": "5d89b63b-fbf2-4839-bc3e-c51cffbad7d0",
   "metadata": {},
   "outputs": [],
   "source": [
    "%env dataset project-GX0Jpp00ZJ46qYPq5G240k1k:record-GXjb4Pj01KjxKYKJvvY50PqZ"
   ]
  },
  {
   "cell_type": "markdown",
   "id": "e8fee22c-cecf-44d1-bf0f-1eb6793d95ea",
   "metadata": {},
   "source": [
    "## Extract meta-information and data"
   ]
  },
  {
   "cell_type": "markdown",
   "id": "258f9dfb-9707-4619-9db5-dd931f299397",
   "metadata": {},
   "source": [
    "### Retrieve the meta-information from the dataset \n",
    "\n",
    "Display somatic variant assay information and genotype field meta-information using the `--retrieve-meta-info` flag. INFO and FORMAT (Field) definitions (ID, Type, Number, and Description) are displayed as a tab-separated list. See the [VCF 4.3 specification](https://samtools.github.io/hts-specs/VCFv4.3.pdf) for full descriptions of the values."
   ]
  },
  {
   "cell_type": "code",
   "execution_count": null,
   "id": "01b0c1a8-af3d-4163-adee-5d0a16639f5f",
   "metadata": {},
   "outputs": [],
   "source": [
    "%%bash\n",
    "dx extract_assay somatic ${dataset} --retrieve-meta-info --output -"
   ]
  },
  {
   "cell_type": "markdown",
   "id": "19289693-74d9-4c28-ac4e-9d664d7f93d2",
   "metadata": {},
   "source": [
    "### Retrieve somatic variant data from the dataset \n",
    "\n",
    "Download somatic variants of genes TP53 and PIK3CA to a TSV file of by filtering variants with the `--retrieve-variant` option. See the description and JSON template for filtering somatic variants by using the `--json-help` flag for further information. Additionally, include the `FORMAT` and `GENOTYPE` information for each variant with the argument `--additional-fields 'FORMAT,GENOTYPE'`."
   ]
  },
  {
   "cell_type": "code",
   "execution_count": null,
   "id": "942878bf",
   "metadata": {},
   "outputs": [],
   "source": [
    "%%bash\n",
    "\n",
    "dx extract_assay somatic ${dataset} \\\n",
    "--retrieve-variant '{\n",
    "  \"annotation\": {\n",
    "    \"symbol\": [\"PIK3CA\", \"TP53\"]\n",
    "  }\n",
    "}' \\\n",
    "--additional-fields 'FORMAT,GENOTYPE' \\\n",
    "-o format_genotype.tsv\n",
    "\n",
    "cat format_genotype.tsv"
   ]
  },
  {
   "cell_type": "markdown",
   "id": "6fb145ed",
   "metadata": {},
   "source": [
    "### Filter somatic variants using genotype information using pandas\n",
    "\n",
    "Load the somatic variant data into a pandas DataFrame from the TSV file. The combination of `assay_sample_id` and `allele_id` can be used as the unique index for the DataFrame."
   ]
  },
  {
   "cell_type": "code",
   "execution_count": null,
   "id": "9465ffda",
   "metadata": {},
   "outputs": [],
   "source": [
    "import pandas as pd\n",
    "\n",
    "original_df = pd.read_csv('format_genotype.tsv', sep='\\t')\n",
    "index_columns = ['assay_sample_id', 'allele_id']\n",
    "original_df = original_df.set_index(index_columns).sort_values(index_columns)\n",
    "original_df.head()"
   ]
  },
  {
   "cell_type": "markdown",
   "id": "49b9e4e0",
   "metadata": {},
   "source": [
    "Parse the `GENOTYPE` column using the `FORMAT` column to index the `GENOTYPE` column and return a DataFrame with columns for each `FORMAT` field."
   ]
  },
  {
   "cell_type": "code",
   "execution_count": null,
   "id": "5828fbbd",
   "metadata": {},
   "outputs": [],
   "source": [
    "def parse_genotype(x):\n",
    "    return pd.Series(x['GENOTYPE'].split(':'), index=x['FORMAT'].split(':'))\n",
    "\n",
    "parsed_df = original_df.apply(parse_genotype, axis='columns')\n",
    "parsed_df.head()"
   ]
  },
  {
   "cell_type": "markdown",
   "id": "9d71d2d9",
   "metadata": {},
   "source": [
    "Replace the genotype information in the original DataFrame with the parsed columns. Another level of indexing can be added to distinguish it from the original columns."
   ]
  },
  {
   "cell_type": "code",
   "execution_count": null,
   "id": "088721bf",
   "metadata": {},
   "outputs": [],
   "source": [
    "df = pd.concat(\n",
    "    [original_df.drop(['FORMAT', 'GENOTYPE'], axis='columns'), parsed_df],\n",
    "    axis='columns',\n",
    "    keys=['', 'GENOTYPE'],\n",
    ")\n",
    "df.head()"
   ]
  },
  {
   "cell_type": "markdown",
   "id": "69c7bffe",
   "metadata": {},
   "source": [
    "Recalling the meta information from using `--retrieve-meta-info` the flag, the field with `ID DP` is single value field (`Number 1`) of integer type (`Type Integer`) representing total read depth. The DP field can be cast to type `int`."
   ]
  },
  {
   "cell_type": "code",
   "execution_count": null,
   "id": "5917c038",
   "metadata": {},
   "outputs": [],
   "source": [
    "df[('GENOTYPE', 'DP')] = df[('GENOTYPE', 'DP')].astype(int)"
   ]
  },
  {
   "cell_type": "markdown",
   "id": "57f6e895",
   "metadata": {},
   "source": [
    "Now somatic variants can be filtered by read depth using numeric comparisons. Here only variant with total read depth more than 200 are selected."
   ]
  },
  {
   "cell_type": "code",
   "execution_count": null,
   "id": "1c431a72",
   "metadata": {},
   "outputs": [],
   "source": [
    "df[df[('GENOTYPE', 'DP')] > 200]"
   ]
  },
  {
   "cell_type": "markdown",
   "id": "415c1b73",
   "metadata": {},
   "source": [
    "Using allele specific values requires an additional parsing step. The field with `ID AD` has values for each allele, including the reference, (`Number R`) of integer type (`Type Integer`) representing the read depth of each allele. Split the comma separated values into column for each allele and cast to `int`."
   ]
  },
  {
   "cell_type": "code",
   "execution_count": null,
   "id": "46b1de2e",
   "metadata": {},
   "outputs": [],
   "source": [
    "allelic_depths_df = df[('GENOTYPE', 'AD')].str.split(',', expand=True).astype(int)\n",
    "allelic_depths_df.head()"
   ]
  },
  {
   "cell_type": "markdown",
   "id": "ca546c7a",
   "metadata": {},
   "source": [
    "Use this information to calculate the variant allele frequencies by dividing each alternate allele read depth by the sum of read depths from the reference allele and all alternate alleles."
   ]
  },
  {
   "cell_type": "code",
   "execution_count": null,
   "id": "42905653",
   "metadata": {},
   "outputs": [],
   "source": [
    "variant_allele_frequency = allelic_depths_df.iloc[:, 1:].apply(lambda x: x.div(allelic_depths_df.sum(axis='columns')))\n",
    "variant_allele_frequency.head()"
   ]
  },
  {
   "cell_type": "markdown",
   "id": "e033c543",
   "metadata": {},
   "source": [
    "Somatic variant identifiers can now be filtered by variant allele frequency. For example if all alternate alleles had a read depth frequency of less then 0.2:"
   ]
  },
  {
   "cell_type": "code",
   "execution_count": null,
   "id": "b4b434ec",
   "metadata": {},
   "outputs": [],
   "source": [
    "variant_allele_frequency[(variant_allele_frequency < 0.2).all(axis='columns')]"
   ]
  },
  {
   "cell_type": "markdown",
   "id": "beb52456",
   "metadata": {},
   "source": [
    "Variant allele frequency can be added back to the full DataFrame by formating the numeric value(s) as a string(s) and delimiting the values with commas."
   ]
  },
  {
   "cell_type": "code",
   "execution_count": null,
   "id": "f7087710",
   "metadata": {},
   "outputs": [],
   "source": [
    "variant_allele_frequency = variant_allele_frequency.applymap(lambda x: '{:6g}'.format(x))\n",
    "variant_allele_frequency = variant_allele_frequency.agg(','.join, axis='columns')\n",
    "variant_allele_frequency.head()"
   ]
  },
  {
   "cell_type": "markdown",
   "id": "dcfbc3f1",
   "metadata": {},
   "source": [
    "Variant allele frequecy is added to the full DataFrame."
   ]
  },
  {
   "cell_type": "code",
   "execution_count": null,
   "id": "36652fa1",
   "metadata": {},
   "outputs": [],
   "source": [
    "df[('GENOTYPE', 'VAF')] = variant_allele_frequency\n",
    "df.head()"
   ]
  }
 ],
 "metadata": {
  "kernelspec": {
   "display_name": "Python 3 (ipykernel)",
   "language": "python",
   "name": "python3"
  },
  "language_info": {
   "codemirror_mode": {
    "name": "ipython",
    "version": 3
   },
   "file_extension": ".py",
   "mimetype": "text/x-python",
   "name": "python",
   "nbconvert_exporter": "python",
   "pygments_lexer": "ipython3",
   "version": "3.11.4"
  }
 },
 "nbformat": 4,
 "nbformat_minor": 5
}
