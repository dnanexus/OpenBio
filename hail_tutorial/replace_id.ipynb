{
  "cells": [
    {
      "cell_type": "markdown",
      "metadata": {},
      "source": [
        "# Replace Sample IDs with Hail"
      ]
    },
    {
      "cell_type": "markdown",
      "metadata": {},
      "source": [
        "This notebook shows how to replace sample IDs in a Hail MatrixTable using a mapping Table. See documentation for guidance on launch specs for the JupyterLab with Spark Cluster app for different data sizes: https://documentation.dnanexus.com/science/using-hail-to-analyze-genomic-data\n",
        "\n",
        "Note: For population scale data, sample IDs may be referred to as individual IDs. In this notebook, the word \"sample\" will be used.\n",
        "\n",
        "Pre-conditions for running this notebook successfully:\n",
        "- There is an existing Hail MatrixTable in DNAX\n",
        "- There is a mapping file of the sample IDs in the project"
      ]
    },
    {
      "cell_type": "markdown",
      "metadata": {},
      "source": [
        "## 1) Initiate Spark and Hail"
      ]
    },
    {
      "cell_type": "code",
      "execution_count": null,
      "metadata": {
        "trusted": true
      },
      "outputs": [],
      "source": [
        "# Running this cell will output a red-colored message- this is expected.\n",
        "# The 'Welcome to Hail' message in the output will indicate that Hail is ready to use in the notebook.\n",
        "\n",
        "from pyspark.sql import SparkSession\n",
        "import hail as hl\n",
        "\n",
        "builder = (\n",
        "    SparkSession\n",
        "    .builder\n",
        "    .enableHiveSupport()\n",
        ")\n",
        "spark = builder.getOrCreate()\n",
        "hl.init(sc=spark.sparkContext)"
      ]
    },
    {
      "cell_type": "markdown",
      "metadata": {},
      "source": [
        "## 2) Read MT"
      ]
    },
    {
      "cell_type": "markdown",
      "metadata": {},
      "source": [
        "The MatrixTable url stored in an Apollo database should be: `dnax://<database_ID>/<mt_name>`"
      ]
    },
    {
      "cell_type": "code",
      "execution_count": null,
      "metadata": {
        "trusted": true
      },
      "outputs": [],
      "source": [
        "# define MT url\n",
        "\n",
        "mt_url = \"dnax://database-GFpXJ5j0vzZxPZQ2Ggf14x7q/geno.mt\""
      ]
    },
    {
      "cell_type": "code",
      "execution_count": null,
      "metadata": {
        "trusted": true
      },
      "outputs": [],
      "source": [
        "# read MT\n",
        "\n",
        "mt = hl.read_matrix_table(mt_url)"
      ]
    },
    {
      "cell_type": "code",
      "execution_count": null,
      "metadata": {
        "trusted": true
      },
      "outputs": [],
      "source": [
        "# View sample IDs in the MT\n",
        "# Note: running this cell can be computationally expensive and take\n",
        "# longer for bigger datasets (this cell can be commented out).\n",
        "\n",
        "mt.s.show(5)"
      ]
    },
    {
      "cell_type": "markdown",
      "metadata": {},
      "source": [
        "## 3) Create a Hail Table that maps sample IDs"
      ]
    },
    {
      "cell_type": "markdown",
      "metadata": {},
      "source": [
        "All files uploaded to the project before running the JupyterLab app is mounted (https://documentation.dnanexus.com/user/jupyter-notebooks?#accessing-data) and can be accessed in `/mnt/project/<path_to_data>`. The file URL follows the format: `file:///mnt/project/<path_to_data>`\n",
        "\n",
        "The mapping file being used in this notebook has two columns: \n",
        "- `old_sample_id`: the sample ID that is in the MT (this column will be the key)\n",
        "- `new_sample_id`: the new sample ID that will replace the old one"
      ]
    },
    {
      "cell_type": "code",
      "execution_count": null,
      "metadata": {
        "trusted": true
      },
      "outputs": [],
      "source": [
        "# Import the mapping file as a Hail Table\n",
        "\n",
        "mapping_table = hl.import_table(\"file:///mnt/project/use_cases/100_sample/sampleidmap.csv\",\n",
        "                                delimiter=',',\n",
        "                                impute=True,\n",
        "                                key='old_sample_id') # specify the column that will be the key (values must match what is in the MT 's' column)"
      ]
    },
    {
      "cell_type": "code",
      "execution_count": null,
      "metadata": {
        "trusted": true
      },
      "outputs": [],
      "source": [
        "# View mapping Table\n",
        "# Note: running this cell can be computationally expensive and take\n",
        "# longer for bigger datasets (this cell can be commented out).\n",
        "\n",
        "mapping_table.show(5)"
      ]
    },
    {
      "cell_type": "markdown",
      "metadata": {},
      "source": [
        "## 4) Replace sample IDs in MT using the mapping Table"
      ]
    },
    {
      "cell_type": "markdown",
      "metadata": {},
      "source": [
        "*Additional documentation: https://hail.is/docs/0.2/hail.MatrixTable.html#hail.MatrixTable.annotate_cols*"
      ]
    },
    {
      "cell_type": "code",
      "execution_count": null,
      "metadata": {
        "trusted": true
      },
      "outputs": [],
      "source": [
        "# Annotate the 's' column with its new sample ID from the mapping Table by its key\n",
        "\n",
        "replaced_mt = mt.annotate_cols(**mapping_table[mt.s])"
      ]
    },
    {
      "cell_type": "code",
      "execution_count": null,
      "metadata": {
        "trusted": true
      },
      "outputs": [],
      "source": [
        "# View basic structure of MT after annotating with new sample IDs\n",
        "\n",
        "replaced_mt.describe()"
      ]
    },
    {
      "cell_type": "markdown",
      "metadata": {},
      "source": [
        "We can see there's a new column field called \"new_sample_id\" in the MT. (This column is from the mapping Table we annotated with in the last step)"
      ]
    },
    {
      "cell_type": "markdown",
      "metadata": {},
      "source": [
        "*Additional documentation: https://hail.is/docs/0.2/hail.MatrixTable.html#hail.MatrixTable.collect_cols_by_key, https://hail.is/docs/0.2/hail.MatrixTable.html#hail.MatrixTable.drop*"
      ]
    },
    {
      "cell_type": "code",
      "execution_count": null,
      "metadata": {
        "trusted": true
      },
      "outputs": [],
      "source": [
        "# Replace the 's' column with the new sample IDs and drop the new column created from annotating in the previous step\n",
        "\n",
        "replaced_mt = replaced_mt.key_cols_by(s = replaced_mt.new_sample_id).drop(\"new_sample_id\")"
      ]
    },
    {
      "cell_type": "code",
      "execution_count": null,
      "metadata": {
        "trusted": true
      },
      "outputs": [],
      "source": [
        "# View basic structure of MT after dropping column\n",
        "\n",
        "replaced_mt.describe()"
      ]
    },
    {
      "cell_type": "markdown",
      "metadata": {},
      "source": [
        "We can see that there's only one 's' column field now. "
      ]
    },
    {
      "cell_type": "code",
      "execution_count": null,
      "metadata": {
        "trusted": true
      },
      "outputs": [],
      "source": [
        "# View new sample IDs in the MT\n",
        "# Note: running this cell can be computationally expensive and take\n",
        "# longer for bigger datasets (this cell can be commented out).\n",
        "\n",
        "replaced_mt.s.show(5)"
      ]
    },
    {
      "cell_type": "markdown",
      "metadata": {},
      "source": [
        "We see that the sample IDs in the MT have been replaced with the new sample IDs!"
      ]
    }
  ],
  "metadata": {
    "kernelspec": {
      "display_name": "Python 3",
      "language": "python",
      "name": "python3"
    },
    "language_info": {
      "codemirror_mode": {
        "name": "ipython",
        "version": 3
      },
      "file_extension": ".py",
      "mimetype": "text/x-python",
      "name": "python",
      "nbconvert_exporter": "python",
      "pygments_lexer": "ipython3",
      "version": "3.6.5"
    }
  },
  "nbformat": 4,
  "nbformat_minor": 4
}
