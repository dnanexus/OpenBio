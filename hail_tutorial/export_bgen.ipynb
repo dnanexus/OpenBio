{
  "cells": [
    {
      "cell_type": "markdown",
      "metadata": {},
      "source": [
        "# Export Genomic Data as BGEN with Hail"
      ]
    },
    {
      "cell_type": "markdown",
      "metadata": {},
      "source": [
        "This notebook shows how to export genomic data as BGEN with Hail. This may be useful if downstream analysis includes using regenie for GWAS (see step 6). See documentation for guidance on launch specs for the JupyterLab with Spark Cluster app for different data sizes: https://documentation.dnanexus.com/science/using-hail-to-analyze-genomic-data\n",
        "\n",
        "Pre-conditions for running this notebook successfully:\n",
        "- There is an existing Hail MatrixTable in DNAX"
      ]
    },
    {
      "cell_type": "markdown",
      "metadata": {},
      "source": [
        "## 1) Initiate Spark and Hail"
      ]
    },
    {
      "cell_type": "code",
      "execution_count": null,
      "metadata": {
        "trusted": true
      },
      "outputs": [],
      "source": [
        "# Running this cell will output a red-colored message- this is expected.\n",
        "# The 'Welcome to Hail' message in the output will indicate that Hail is ready to use in the notebook.\n",
        "\n",
        "from pyspark.sql import SparkSession\n",
        "import hail as hl\n",
        "\n",
        "builder = (\n",
        "    SparkSession\n",
        "    .builder\n",
        "    .enableHiveSupport()\n",
        ")\n",
        "spark = builder.getOrCreate()\n",
        "hl.init(sc=spark.sparkContext)"
      ]
    },
    {
      "cell_type": "markdown",
      "metadata": {},
      "source": [
        "## 2) Read MT"
      ]
    },
    {
      "cell_type": "code",
      "execution_count": 2,
      "metadata": {
        "trusted": true
      },
      "outputs": [],
      "source": [
        "# define MT url\n",
        "\n",
        "mt_url = \"dnax://database-GFpXJ5j0vzZxPZQ2Ggf14x7q/geno.mt\""
      ]
    },
    {
      "cell_type": "code",
      "execution_count": 3,
      "metadata": {
        "trusted": true
      },
      "outputs": [],
      "source": [
        "# read MT\n",
        "\n",
        "mt = hl.read_matrix_table(mt_url)"
      ]
    },
    {
      "cell_type": "code",
      "execution_count": null,
      "metadata": {
        "trusted": true
      },
      "outputs": [],
      "source": [
        "# View structure of MT\n",
        "\n",
        "mt.describe()"
      ]
    },
    {
      "cell_type": "markdown",
      "metadata": {},
      "source": [
        "## 3) Export as BGEN: 1 file per chromosome"
      ]
    },
    {
      "cell_type": "markdown",
      "metadata": {},
      "source": [
        "There is no direct way for the notebook to write data into the project, so it first writes into HDFS (see https://documentation.dnanexus.com/developer/apps/developing-spark-apps#spark-cluster-management-software). After writing out the BGEN files to HDFS, we can then move the data to the project in the next step. \n",
        "\n",
        "*Additional documentation: https://hail.is/docs/0.2/methods/impex.html#hail.methods.export_bgen*"
      ]
    },
    {
      "cell_type": "code",
      "execution_count": 38,
      "metadata": {
        "trusted": true
      },
      "outputs": [],
      "source": [
        "# Create a set of unique chromosomes found in MT\n",
        "\n",
        "chr_set = mt.aggregate_rows(hl.agg.collect_as_set(mt.locus.contig))"
      ]
    },
    {
      "cell_type": "code",
      "execution_count": null,
      "metadata": {
        "trusted": true
      },
      "outputs": [],
      "source": [
        "# Filter MT to a single chromosome and write out as BGEN file to HDFS as a single file for each chromosome in the MT\n",
        "\n",
        "for chrom in chr_set:\n",
        "    filtered_mt = hl.filter_intervals(mt, [hl.parse_locus_interval(chrom, reference_genome=\"GRCh38\"),])\n",
        "    hl.export_bgen(filtered_mt, f\"{chrom}\")"
      ]
    },
    {
      "cell_type": "markdown",
      "metadata": {},
      "source": [
        "## 4) Copy files from HDFS"
      ]
    },
    {
      "cell_type": "code",
      "execution_count": null,
      "metadata": {
        "trusted": true
      },
      "outputs": [],
      "source": [
        "%%bash\n",
        "# Copy BGEN files from HDFS to the JupyterLab execution environment file system\n",
        "\n",
        "hdfs dfs -get ./*.bgen ."
      ]
    },
    {
      "cell_type": "code",
      "execution_count": null,
      "metadata": {
        "trusted": true
      },
      "outputs": [],
      "source": [
        "%%bash\n",
        "# Copy SAMPLE files from HDFS to the JupyterLab execution environment file system\n",
        "\n",
        "hdfs dfs -get ./*.sample ."
      ]
    },
    {
      "cell_type": "markdown",
      "metadata": {},
      "source": [
        "## 5) Upload files to project"
      ]
    },
    {
      "cell_type": "code",
      "execution_count": 71,
      "metadata": {
        "trusted": true
      },
      "outputs": [],
      "source": [
        "%%bash\n",
        "# Upload BGEN and SAMPLE files to project\n",
        "\n",
        "dx upload *.bgen\n",
        "dx upload *.sample"
      ]
    },
    {
      "cell_type": "markdown",
      "metadata": {},
      "source": [
        "## 6) Prep for GWAS with regenie (optional)"
      ]
    },
    {
      "cell_type": "markdown",
      "metadata": {},
      "source": [
        "If the next step of your analysis is to run a GWAS using regenie, the documentation suggests the following for running `step 2` of regenie: \n",
        "- \"Step 2 of regenie can be sped up by using BGEN files using v1.2 format with 8 bits encoding as well as having an accompanying .bgi index file.\"\n",
        "- \"We recommend to test chromosomes separately as these parameters may need to be altered when fitting the null model for each chromosome\"\n",
        "\n",
        "Lucky for us, we already created separate BGEN files per chromosome and Hail exported the MatrixTable as BGEN files in v1.2 format with 8 bits encoding (and the necessary SAMPLE file for regenie). See documentation for guidance on how to create BGI files: https://documentation.dnanexus.com/science/using-hail-to-analyze-genomic-data\n",
        "\n",
        "*Additional documentation:* \n",
        "- https://rgcgithub.github.io/regenie/\n",
        "- https://bgen.readthedocs.io/en/latest/index.html\n",
        "- https://enkre.net/cgi-bin/code/bgen/doc/trunk/doc/wiki/bgenix.md"
      ]
    }
  ],
  "metadata": {
    "kernelspec": {
      "display_name": "Python 3",
      "language": "python",
      "name": "python3"
    },
    "language_info": {
      "codemirror_mode": {
        "name": "ipython",
        "version": 3
      },
      "file_extension": ".py",
      "mimetype": "text/x-python",
      "name": "python",
      "nbconvert_exporter": "python",
      "pygments_lexer": "ipython3",
      "version": "3.6.5"
    }
  },
  "nbformat": 4,
  "nbformat_minor": 4
}
