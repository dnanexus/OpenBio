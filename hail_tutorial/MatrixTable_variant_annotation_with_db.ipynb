{
  "cells": [
    {
      "cell_type": "markdown",
      "metadata": {},
      "source": [
        "# Variant Annotation with Hail: Annotation Database"
      ]
    },
    {
      "cell_type": "markdown",
      "metadata": {},
      "source": [
        "This notebook shows how to annotate genomic data in a Hail MatrixTable with Hail's Annotation Database (\"a curated collection of variant annotations in an accessible and Hail-friendly format\") and save it as a Hail Table to an Apollo database (dnax://) on the DNAnexus platform. See documentation for guidance on launch specs for the JupyterLab with Spark Cluster app for different data sizes: https://documentation.dnanexus.com/science/using-hail-to-analyze-genomic-data\n",
        "\n",
        "Note: Functionality around Hail's Annotation Database is experimental and subject to change.\n",
        "\n",
        "Additional documentation: https://hail.is/docs/0.2/annotation_database_ui.html#id1\n",
        "\n",
        "Pre-conditions for running this notebook successfully:\n",
        "- There is an existing Hail MatrixTable in DNAX"
      ]
    },
    {
      "cell_type": "markdown",
      "metadata": {},
      "source": [
        "## 1) Initiate Spark and Hail"
      ]
    },
    {
      "cell_type": "code",
      "execution_count": null,
      "metadata": {
        "trusted": true
      },
      "outputs": [],
      "source": [
        "# Running this cell will output a red-colored message- this is expected.\n",
        "# The 'Welcome to Hail' message in the output will indicate that Hail is ready to use in the notebook.\n",
        "\n",
        "from pyspark.sql import SparkSession\n",
        "import hail as hl\n",
        "\n",
        "builder = (\n",
        "    SparkSession\n",
        "    .builder\n",
        "    .enableHiveSupport()\n",
        ")\n",
        "spark = builder.getOrCreate()\n",
        "hl.init(sc=spark.sparkContext)"
      ]
    },
    {
      "cell_type": "markdown",
      "metadata": {},
      "source": [
        "## 2) Read MT"
      ]
    },
    {
      "cell_type": "code",
      "execution_count": null,
      "metadata": {
        "trusted": true
      },
      "outputs": [],
      "source": [
        "# define MT url\n",
        "\n",
        "mt_url = \"dnax://database-GFpXJ5j0vzZxPZQ2Ggf14x7q/geno.mt\""
      ]
    },
    {
      "cell_type": "code",
      "execution_count": null,
      "metadata": {
        "trusted": true
      },
      "outputs": [],
      "source": [
        "# read MT\n",
        "\n",
        "mt = hl.read_matrix_table(mt_url)"
      ]
    },
    {
      "cell_type": "code",
      "execution_count": null,
      "metadata": {
        "trusted": true
      },
      "outputs": [],
      "source": [
        "# View structure of MT before annotation\n",
        "\n",
        "mt.describe()"
      ]
    },
    {
      "cell_type": "markdown",
      "metadata": {},
      "source": [
        "## 3) Create Hail Annotation Database"
      ]
    },
    {
      "cell_type": "markdown",
      "metadata": {},
      "source": [
        "Let's create an instance of a Database so we can get access to Hail's curated collection of variant annotations.\n",
        "\n",
        "Note: Hail's collection of variant annotations are stored in AWS (S3) and only available in a bucket in the US region.\n",
        "\n",
        "*Additional documentation: https://hail.is/docs/0.2/annotation_database_ui.html#id1*"
      ]
    },
    {
      "cell_type": "code",
      "execution_count": null,
      "metadata": {
        "trusted": true
      },
      "outputs": [],
      "source": [
        "# Create Database\n",
        "\n",
        "db = hl.experimental.DB(region='us', cloud='aws')"
      ]
    },
    {
      "cell_type": "code",
      "execution_count": null,
      "metadata": {
        "trusted": true
      },
      "outputs": [],
      "source": [
        "# Run to view available datasets\n",
        "# db.available_datasets"
      ]
    },
    {
      "cell_type": "markdown",
      "metadata": {},
      "source": [
        "## 4) Annotate"
      ]
    },
    {
      "cell_type": "markdown",
      "metadata": {},
      "source": [
        "Let's annotate our MT with the selected dataset: 'gencode'\n",
        "\n",
        "*Additional documentation: https://hail.is/docs/0.2/experimental/hail.experimental.DB.html#hail.experimental.DB.annotate_rows_db*"
      ]
    },
    {
      "cell_type": "code",
      "execution_count": null,
      "metadata": {
        "trusted": true
      },
      "outputs": [],
      "source": [
        "# Annotate MT\n",
        "\n",
        "ann_mt = db.annotate_rows_db(mt, 'gencode')"
      ]
    },
    {
      "cell_type": "code",
      "execution_count": null,
      "metadata": {
        "trusted": true
      },
      "outputs": [],
      "source": [
        "# See details of MT after annotation\n",
        "\n",
        "ann_mt.describe()"
      ]
    },
    {
      "cell_type": "markdown",
      "metadata": {},
      "source": [
        "We see that `gencode` has been added to the row fields of the MT"
      ]
    },
    {
      "cell_type": "markdown",
      "metadata": {},
      "source": [
        "## 5) Create Hail DB Annotated Table and save in Apollo Database"
      ]
    },
    {
      "cell_type": "code",
      "execution_count": null,
      "metadata": {
        "trusted": true
      },
      "outputs": [],
      "source": [
        "# Create Hail Table from MT\n",
        "\n",
        "ann_tb = ann_mt.rows()"
      ]
    },
    {
      "cell_type": "code",
      "execution_count": null,
      "metadata": {
        "trusted": true
      },
      "outputs": [],
      "source": [
        "# Define database and table name\n",
        "\n",
        "db_name = \"database_name\"\n",
        "tb_name = \"ann_haildb.ht\""
      ]
    },
    {
      "cell_type": "code",
      "execution_count": null,
      "metadata": {
        "trusted": true
      },
      "outputs": [],
      "source": [
        "# Create database in DNAX\n",
        "\n",
        "stmt = f\"CREATE DATABASE IF NOT EXISTS {db_name} LOCATION 'dnax://'\"\n",
        "print(stmt)\n",
        "spark.sql(stmt).show()"
      ]
    },
    {
      "cell_type": "code",
      "execution_count": null,
      "metadata": {
        "trusted": true
      },
      "outputs": [],
      "source": [
        "# Store Table in DNAX\n",
        "\n",
        "import dxpy\n",
        "\n",
        "# find database ID of newly created database using a dxpy method\n",
        "db_uri = dxpy.find_one_data_object(name=f\"{db_name}\", classname=\"database\")['id']\n",
        "url = f\"dnax://{db_uri}/{tb_name}\"\n",
        "\n",
        "# Note: Writing (saving/storing) the Table to the database can be computationally expensive \n",
        "# depending on the size of the annotations. \n",
        "# \n",
        "# Before this step, the Hail Table is just an object in memory. To persist it and be able to access \n",
        "# it later, the notebook needs to write it into a persistent filesystem (in this case DNAX).\n",
        "# See https://hail.is/docs/0.2/hail.Table.html#hail.Table.write for additional documentation.\n",
        "ann_tb.write(url) # output should describe size of Table (i.e. number of rows, partitions)"
      ]
    }
  ],
  "metadata": {
    "kernelspec": {
      "display_name": "Python 3",
      "language": "python",
      "name": "python3"
    },
    "language_info": {
      "codemirror_mode": {
        "name": "ipython",
        "version": 3
      },
      "file_extension": ".py",
      "mimetype": "text/x-python",
      "name": "python",
      "nbconvert_exporter": "python",
      "pygments_lexer": "ipython3",
      "version": "3.6.5"
    }
  },
  "nbformat": 4,
  "nbformat_minor": 4
}
