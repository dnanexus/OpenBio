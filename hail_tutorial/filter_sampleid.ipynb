{
  "cells": [
    {
      "cell_type": "markdown",
      "metadata": {},
      "source": [
        "# Filter Genomic Data with Hail: Sample IDs"
      ]
    },
    {
      "cell_type": "markdown",
      "metadata": {},
      "source": [
        "This notebook shows how to filter by sample IDs in Hail and save the filtered Hail Table to an Apollo database (dnax://) on the DNAnexus platform. See documentation for guidance on launch specs for the JupyterLab with Spark Cluster app for different data sizes: https://documentation.dnanexus.com/science/using-hail-to-analyze-genomic-data\n",
        "\n",
        "Note: For population scale data, sample IDs may be referred to as individual IDs. In this notebook, the word \"sample\" will be used.\n",
        "\n",
        "Pre-conditions for running this notebook successfully:\n",
        "- There is an existing Hail MatrixTable in DNAX"
      ]
    },
    {
      "cell_type": "markdown",
      "metadata": {},
      "source": [
        "## 1) Initiate Spark and Hail"
      ]
    },
    {
      "cell_type": "code",
      "execution_count": null,
      "metadata": {
        "trusted": true
      },
      "outputs": [],
      "source": [
        "# Running this cell will output a red-colored message- this is expected.\n",
        "# The 'Welcome to Hail' message in the output will indicate that Hail is ready to use in the notebook.\n",
        "\n",
        "from pyspark.sql import SparkSession\n",
        "import hail as hl\n",
        "\n",
        "builder = (\n",
        "    SparkSession\n",
        "    .builder\n",
        "    .enableHiveSupport()\n",
        ")\n",
        "spark = builder.getOrCreate()\n",
        "hl.init(sc=spark.sparkContext)"
      ]
    },
    {
      "cell_type": "markdown",
      "metadata": {},
      "source": [
        "## 2) Read MT"
      ]
    },
    {
      "cell_type": "markdown",
      "metadata": {},
      "source": [
        "The MatrixTable url stored in an Apollo database should be: `dnax://<database_ID>/<mt_name>`"
      ]
    },
    {
      "cell_type": "code",
      "execution_count": 2,
      "metadata": {
        "trusted": true
      },
      "outputs": [],
      "source": [
        "# define MT url\n",
        "\n",
        "mt_url = \"dnax://database-GFpXJ5j0vzZxPZQ2Ggf14x7q/geno.mt\""
      ]
    },
    {
      "cell_type": "code",
      "execution_count": 23,
      "metadata": {
        "trusted": true
      },
      "outputs": [],
      "source": [
        "# read MT\n",
        "\n",
        "mt = hl.read_matrix_table(mt_url)"
      ]
    },
    {
      "cell_type": "code",
      "execution_count": null,
      "metadata": {
        "trusted": true
      },
      "outputs": [],
      "source": [
        "# View basic properties of MT before filtering\n",
        "# \n",
        "# Note: running 'count()' can be computationally expensive and take\n",
        "# longer for bigger datasets (these lines can be commented out).\n",
        "\n",
        "print(f\"Num partitions: {mt.n_partitions()}\")\n",
        "print(f\"Num samples: {mt.cols().count()}\")\n",
        "mt.describe()"
      ]
    },
    {
      "cell_type": "markdown",
      "metadata": {},
      "source": [
        "## 3) Filter MT"
      ]
    },
    {
      "cell_type": "markdown",
      "metadata": {},
      "source": [
        "Let's filter for the following sample IDs: `sample_1_0`, `sample_1_2`, and `sample_1_4`.\n",
        "\n",
        "*Additional documentation on filtering with Hail: https://hail.is/docs/0.2/hail.MatrixTable.html#hail.MatrixTable.filter_cols*"
      ]
    },
    {
      "cell_type": "code",
      "execution_count": 25,
      "metadata": {
        "trusted": true
      },
      "outputs": [],
      "source": [
        "# Define sample ID set to filter for\n",
        "\n",
        "filter_ind_id = hl.set([\"sample_1_0\",  \"sample_1_2\", \"sample_1_4\"]) # format needs to match data in the MT"
      ]
    },
    {
      "cell_type": "code",
      "execution_count": 26,
      "metadata": {
        "trusted": true
      },
      "outputs": [],
      "source": [
        "# Filter by checking to see if sample ID (column 's') is in the set of sample IDs to be filtered for (defined above)\n",
        "\n",
        "filtered_mt = mt.filter_cols(filter_ind_id.contains(mt.s), keep=True)"
      ]
    },
    {
      "cell_type": "code",
      "execution_count": null,
      "metadata": {
        "trusted": true
      },
      "outputs": [],
      "source": [
        "# View basic properties of MT after filtering\n",
        "# \n",
        "# Note: running 'count()' can be computationally expensive and take\n",
        "# longer for bigger datasets (these lines can be commented out).\n",
        "\n",
        "print(f\"Num partitions: {filtered_mt.n_partitions()}\")\n",
        "print(f\"Num samples: {filtered_mt.cols().count()}\")\n",
        "filtered_mt.describe()"
      ]
    },
    {
      "cell_type": "markdown",
      "metadata": {},
      "source": [
        "After filtering, we see that the number of samples decreased."
      ]
    },
    {
      "cell_type": "markdown",
      "metadata": {},
      "source": [
        "## 4) Create Hail Table from MT and store in DNAX"
      ]
    },
    {
      "cell_type": "code",
      "execution_count": 28,
      "metadata": {
        "trusted": true
      },
      "outputs": [],
      "source": [
        "# Create Hail Table from MT\n",
        "\n",
        "filtered_tb = filtered_mt.cols()"
      ]
    },
    {
      "cell_type": "code",
      "execution_count": 30,
      "metadata": {
        "trusted": true
      },
      "outputs": [],
      "source": [
        "# Define database and table name\n",
        "\n",
        "db_name = \"database_name\"\n",
        "tb_name = \"filtered_sampleid.ht\""
      ]
    },
    {
      "cell_type": "code",
      "execution_count": null,
      "metadata": {
        "trusted": true
      },
      "outputs": [],
      "source": [
        "# Create database in DNAX\n",
        "\n",
        "stmt = f\"CREATE DATABASE IF NOT EXISTS {db_name} LOCATION 'dnax://'\"\n",
        "print(stmt)\n",
        "spark.sql(stmt).show()"
      ]
    },
    {
      "cell_type": "code",
      "execution_count": null,
      "metadata": {
        "trusted": true
      },
      "outputs": [],
      "source": [
        "# Store Table in DNAX\n",
        "\n",
        "import dxpy\n",
        "\n",
        "# find database ID of newly created database using a dxpy method\n",
        "db_uri = dxpy.find_one_data_object(name=f\"{db_name}\", classname=\"database\")['id']\n",
        "url = f\"dnax://{db_uri}/{tb_name}\"\n",
        "\n",
        "# Before this step, the Hail Table is just an object in memory. To persist it and be able to access \n",
        "# it later, the notebook needs to write it into a persistent filesystem (in this case DNAX).\n",
        "# See https://hail.is/docs/0.2/hail.Table.html#hail.Table.write for additional documentation.\n",
        "filtered_tb.write(url) # Note: output should describe size of Table (i.e. number of rows, partitions)"
      ]
    }
  ],
  "metadata": {
    "kernelspec": {
      "display_name": "Python 3",
      "language": "python",
      "name": "python3"
    },
    "language_info": {
      "codemirror_mode": {
        "name": "ipython",
        "version": 3
      },
      "file_extension": ".py",
      "mimetype": "text/x-python",
      "name": "python",
      "nbconvert_exporter": "python",
      "pygments_lexer": "ipython3",
      "version": "3.6.5"
    }
  },
  "nbformat": 4,
  "nbformat_minor": 4
}
