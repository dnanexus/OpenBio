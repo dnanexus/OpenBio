{
  "cells": [
    {
      "cell_type": "markdown",
      "metadata": {},
      "source": [
        "# Filter Genomic Data with Hail: Variant IDs"
      ]
    },
    {
      "cell_type": "markdown",
      "metadata": {},
      "source": [
        "This notebook shows how to filter for variant IDs in genomic data with Hail, and save the filtered Hail Table to an Apollo database (dnax://) on the DNAnexus platform. See documentation for guidance on launch specs for the JupyterLab with Spark Cluster app for different data sizes: https://documentation.dnanexus.com/science/using-hail-to-analyze-genomic-data\n",
        "\n",
        "Pre-conditions for running this notebook successfully:\n",
        "- There is an existing Hail MatrixTable in DNAX"
      ]
    },
    {
      "cell_type": "markdown",
      "metadata": {},
      "source": [
        "## 1) Initiate Spark and Hail"
      ]
    },
    {
      "cell_type": "code",
      "execution_count": null,
      "metadata": {
        "trusted": true
      },
      "outputs": [],
      "source": [
        "# Running this cell will output a red-colored message- this is expected.\n",
        "# The 'Welcome to Hail' message in the output will indicate that Hail is ready to use in the notebook.\n",
        "\n",
        "from pyspark.sql import SparkSession\n",
        "import hail as hl\n",
        "\n",
        "builder = (\n",
        "    SparkSession\n",
        "    .builder\n",
        "    .enableHiveSupport()\n",
        ")\n",
        "spark = builder.getOrCreate()\n",
        "hl.init(sc=spark.sparkContext)"
      ]
    },
    {
      "cell_type": "markdown",
      "metadata": {},
      "source": [
        "## 2) Read MT"
      ]
    },
    {
      "cell_type": "code",
      "execution_count": 4,
      "metadata": {
        "trusted": true
      },
      "outputs": [],
      "source": [
        "# Define MT url\n",
        "\n",
        "# Note: The MT url should be: `dnax://<database_ID>/<mt_name>`\n",
        "mt_url = \"dnax://database-GFpXJ5j0vzZxPZQ2Ggf14x7q/geno.mt\""
      ]
    },
    {
      "cell_type": "code",
      "execution_count": 5,
      "metadata": {
        "trusted": true
      },
      "outputs": [],
      "source": [
        "# Read MT\n",
        "\n",
        "mt = hl.read_matrix_table(mt_url)"
      ]
    },
    {
      "cell_type": "code",
      "execution_count": null,
      "metadata": {
        "trusted": true
      },
      "outputs": [],
      "source": [
        "# View basic properties of MT before filtering\n",
        "# \n",
        "# Note: running 'count()' can be computationally expensive and take\n",
        "# longer for bigger datasets (these lines can be commented out).\n",
        "\n",
        "print(f\"Num partitions: {mt.n_partitions()}\")\n",
        "print(f\"Num loci: {mt.rows().count()}\")\n",
        "mt.describe()"
      ]
    },
    {
      "cell_type": "markdown",
      "metadata": {},
      "source": [
        "## 3) Filter MT"
      ]
    },
    {
      "cell_type": "markdown",
      "metadata": {},
      "source": [
        "Let's filter for the following variant IDs: `chr1_930269_C_G` and `chr1_944199_C_T`. In this example, variant IDs are in the format: `<chr>_<pos>_<ref>_<alt>`. Note that other common variant ID types include rsID and Affymetrix probe ID. \n",
        "\n",
        "*Additional documentation on filtering with Hail: https://hail.is/docs/0.2/hail.MatrixTable.html#hail.MatrixTable.filter_rows*"
      ]
    },
    {
      "cell_type": "code",
      "execution_count": 7,
      "metadata": {
        "trusted": true
      },
      "outputs": [],
      "source": [
        "# Define variant ID sets\n",
        "\n",
        "filter_var_ids = hl.set([\"chr1_930269_C_G\", \"chr1_944199_C_T\"]) # format needs to match what is in the MT\n",
        "mt_var_ids = hl.set(mt.rsid.split(';')) # creates a set of variant IDs for values in the 'rsid' column (some have multiple variant IDs separated by ';')"
      ]
    },
    {
      "cell_type": "code",
      "execution_count": 8,
      "metadata": {
        "trusted": true
      },
      "outputs": [],
      "source": [
        "# Filter by checking to see if there is an intersection between the two sets (defined above)\n",
        "\n",
        "# Note: variant IDs are not indexed in hail (may not be as efficient as filtering for chr/pos)\n",
        "filtered_mt = mt.filter_rows(hl.if_else(hl.len(filter_var_ids.intersection(mt_var_ids)) > 0, True, False), keep=True)"
      ]
    },
    {
      "cell_type": "code",
      "execution_count": null,
      "metadata": {
        "trusted": true
      },
      "outputs": [],
      "source": [
        "# View basic properties of MT after filtering\n",
        "# \n",
        "# Note: running 'count()' can be computationally expensive and take\n",
        "# longer for bigger datasets (these lines can be commented out).\n",
        "\n",
        "print(f\"Num partitions: {filtered_mt.n_partitions()}\")\n",
        "print(f\"Num loci: {filtered_mt.rows().count()}\")\n",
        "filtered_mt.describe()"
      ]
    },
    {
      "cell_type": "markdown",
      "metadata": {},
      "source": [
        "After filtering, we see that the number of loci decreased."
      ]
    },
    {
      "cell_type": "markdown",
      "metadata": {},
      "source": [
        "## 4) Create Hail Table from MT and store in DNAX"
      ]
    },
    {
      "cell_type": "code",
      "execution_count": 11,
      "metadata": {
        "trusted": true
      },
      "outputs": [],
      "source": [
        "# Create Hail Table from MT\n",
        "\n",
        "filtered_tb = filtered_mt.rows()"
      ]
    },
    {
      "cell_type": "code",
      "execution_count": 12,
      "metadata": {
        "trusted": true
      },
      "outputs": [],
      "source": [
        "# Define database and table name\n",
        "\n",
        "# Note: It is recommended to only use lowercase letters for the database name.\n",
        "# If uppercase lettering is used, the database name will be lowercased when creating the database.\n",
        "db_name = \"database_name\"\n",
        "tb_name = \"filtered_varid.ht\""
      ]
    },
    {
      "cell_type": "code",
      "execution_count": null,
      "metadata": {
        "trusted": true
      },
      "outputs": [],
      "source": [
        "# Create database in DNAX\n",
        "\n",
        "stmt = f\"CREATE DATABASE IF NOT EXISTS {db_name} LOCATION 'dnax://'\"\n",
        "print(stmt)\n",
        "spark.sql(stmt).show()"
      ]
    },
    {
      "cell_type": "code",
      "execution_count": null,
      "metadata": {
        "trusted": true
      },
      "outputs": [],
      "source": [
        "# Store Table in DNAX\n",
        "\n",
        "import dxpy\n",
        "\n",
        "# find database ID of newly created database using a dxpy method\n",
        "db_uri = dxpy.find_one_data_object(name=f\"{db_name}\", classname=\"database\")['id']\n",
        "url = f\"dnax://{db_uri}/{tb_name}\"\n",
        "\n",
        "# Before this step, the Hail Table is just an object in memory. To persist it and be able to access \n",
        "# it later, the notebook needs to write it into a persistent filesystem (in this case DNAX).\n",
        "# See https://hail.is/docs/0.2/hail.Table.html#hail.Table.write for additional documentation.\n",
        "filtered_tb.write(url) # Note: output should describe size of Table (i.e. number of rows, partitions) "
      ]
    }
  ],
  "metadata": {
    "kernelspec": {
      "display_name": "Python 3",
      "language": "python",
      "name": "python3"
    },
    "language_info": {
      "codemirror_mode": {
        "name": "ipython",
        "version": 3
      },
      "file_extension": ".py",
      "mimetype": "text/x-python",
      "name": "python",
      "nbconvert_exporter": "python",
      "pygments_lexer": "ipython3",
      "version": "3.6.5"
    }
  },
  "nbformat": 4,
  "nbformat_minor": 4
}
